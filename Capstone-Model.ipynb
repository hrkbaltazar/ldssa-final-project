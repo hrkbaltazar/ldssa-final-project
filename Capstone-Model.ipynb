{
 "cells": [
  {
   "cell_type": "markdown",
   "id": "serious-mentor",
   "metadata": {},
   "source": [
    "## Index"
   ]
  },
  {
   "cell_type": "markdown",
   "id": "painful-mathematics",
   "metadata": {},
   "source": [
    "* [1 - Imports](#1)\n",
    "* [2 - Load the data](#2)\n",
    "* [3 - Define Functions](#3)\n",
    "* [4 - Model](#4)"
   ]
  },
  {
   "cell_type": "markdown",
   "id": "middle-auckland",
   "metadata": {},
   "source": [
    "## Import <a class=\"anchor\" id=\"1\"></a>"
   ]
  },
  {
   "cell_type": "code",
   "execution_count": 1,
   "id": "wicked-latex",
   "metadata": {},
   "outputs": [],
   "source": [
    "import json\n",
    "import joblib\n",
    "import pickle\n",
    "import pandas as pd\n",
    "import numpy as np\n",
    "import seaborn as sns\n",
    "\n",
    "import requests\n",
    "\n",
    "from sklearn.base import BaseEstimator, TransformerMixin\n",
    "\n",
    "from sklearn.model_selection import RepeatedStratifiedKFold\n",
    "from sklearn.model_selection import GridSearchCV\n",
    "from sklearn.model_selection import train_test_split\n",
    "from sklearn.model_selection import cross_validate, cross_val_score\n",
    "from sklearn.model_selection import KFold\n",
    "\n",
    "from sklearn.pipeline import make_pipeline, Pipeline\n",
    "from sklearn.impute import SimpleImputer\n",
    "from sklearn.preprocessing import StandardScaler, OneHotEncoder\n",
    "from sklearn.compose import ColumnTransformer\n",
    "from sklearn.ensemble import RandomForestClassifier\n",
    "\n",
    "from sklearn.calibration import calibration_curve\n",
    "\n",
    "from sklearn.metrics import classification_report\n",
    "from sklearn.metrics import precision_score, recall_score, roc_auc_score, f1_score\n",
    "from sklearn.metrics import make_scorer, accuracy_score, brier_score_loss\n",
    "from sklearn.metrics import confusion_matrix\n",
    "from sklearn.metrics import cohen_kappa_score\n",
    "from sklearn.metrics import precision_recall_curve\n",
    "from sklearn.metrics import log_loss\n",
    "\n",
    "# from imblearn.over_sampling import SMOTENC\n",
    "# from imblearn.combine import SMOTETomek\n",
    "\n",
    "from sklearn.metrics import roc_curve, auc\n",
    "\n",
    "from category_encoders import LeaveOneOutEncoder\n",
    "\n",
    "import xgboost\n",
    "\n",
    "import matplotlib.pyplot as plt\n",
    "import matplotlib.image as mpimg\n",
    "import matplotlib.lines as mlines\n",
    "import matplotlib.transforms as mtransforms\n",
    "\n",
    "import datetime\n",
    "\n",
    "\n",
    "%matplotlib inline"
   ]
  },
  {
   "cell_type": "markdown",
   "id": "included-appendix",
   "metadata": {},
   "source": [
    "## Load files  <a class=\"anchor\" id=\"2\"></a>"
   ]
  },
  {
   "cell_type": "code",
   "execution_count": 2,
   "id": "medieval-terminal",
   "metadata": {},
   "outputs": [
    {
     "data": {
      "text/html": [
       "<div>\n",
       "<style scoped>\n",
       "    .dataframe tbody tr th:only-of-type {\n",
       "        vertical-align: middle;\n",
       "    }\n",
       "\n",
       "    .dataframe tbody tr th {\n",
       "        vertical-align: top;\n",
       "    }\n",
       "\n",
       "    .dataframe thead th {\n",
       "        text-align: right;\n",
       "    }\n",
       "</style>\n",
       "<table border=\"1\" class=\"dataframe\">\n",
       "  <thead>\n",
       "    <tr style=\"text-align: right;\">\n",
       "      <th></th>\n",
       "      <th>observation_id</th>\n",
       "      <th>Type</th>\n",
       "      <th>Date</th>\n",
       "      <th>Part of a policing operation</th>\n",
       "      <th>Latitude</th>\n",
       "      <th>Longitude</th>\n",
       "      <th>Gender</th>\n",
       "      <th>Age range</th>\n",
       "      <th>Self-defined ethnicity</th>\n",
       "      <th>Officer-defined ethnicity</th>\n",
       "      <th>...</th>\n",
       "      <th>Object of search</th>\n",
       "      <th>Outcome</th>\n",
       "      <th>Outcome linked to object of search</th>\n",
       "      <th>Removal of more than just outer clothing</th>\n",
       "      <th>station</th>\n",
       "      <th>cluster</th>\n",
       "      <th>hour</th>\n",
       "      <th>month</th>\n",
       "      <th>day_of_week</th>\n",
       "      <th>target</th>\n",
       "    </tr>\n",
       "  </thead>\n",
       "  <tbody>\n",
       "    <tr>\n",
       "      <th>0</th>\n",
       "      <td>34d76816-cfc2-4bdd-b3a2-bf0c40b12689</td>\n",
       "      <td>Person search</td>\n",
       "      <td>2019-12-01 00:00:00</td>\n",
       "      <td>True</td>\n",
       "      <td>NaN</td>\n",
       "      <td>NaN</td>\n",
       "      <td>Male</td>\n",
       "      <td>18-24</td>\n",
       "      <td>Asian/Asian British - Any other Asian background</td>\n",
       "      <td>Asian</td>\n",
       "      <td>...</td>\n",
       "      <td>Controlled drugs</td>\n",
       "      <td>A no further action disposal</td>\n",
       "      <td>NaN</td>\n",
       "      <td>False</td>\n",
       "      <td>devon-and-cornwall</td>\n",
       "      <td>NaN</td>\n",
       "      <td>0</td>\n",
       "      <td>12</td>\n",
       "      <td>Sunday</td>\n",
       "      <td>0</td>\n",
       "    </tr>\n",
       "    <tr>\n",
       "      <th>1</th>\n",
       "      <td>83c87ec1-e6d4-4bbb-8e0c-159516706359</td>\n",
       "      <td>Person search</td>\n",
       "      <td>2019-12-01 00:09:00</td>\n",
       "      <td>True</td>\n",
       "      <td>NaN</td>\n",
       "      <td>NaN</td>\n",
       "      <td>Male</td>\n",
       "      <td>18-24</td>\n",
       "      <td>NaN</td>\n",
       "      <td>White</td>\n",
       "      <td>...</td>\n",
       "      <td>Controlled drugs</td>\n",
       "      <td>A no further action disposal</td>\n",
       "      <td>NaN</td>\n",
       "      <td>False</td>\n",
       "      <td>devon-and-cornwall</td>\n",
       "      <td>NaN</td>\n",
       "      <td>0</td>\n",
       "      <td>12</td>\n",
       "      <td>Sunday</td>\n",
       "      <td>0</td>\n",
       "    </tr>\n",
       "    <tr>\n",
       "      <th>2</th>\n",
       "      <td>8c2eae4b-035a-492f-92d6-cd27e6c900a1</td>\n",
       "      <td>Person search</td>\n",
       "      <td>2019-12-01 00:10:00</td>\n",
       "      <td>True</td>\n",
       "      <td>NaN</td>\n",
       "      <td>NaN</td>\n",
       "      <td>Female</td>\n",
       "      <td>18-24</td>\n",
       "      <td>White - English/Welsh/Scottish/Northern Irish/...</td>\n",
       "      <td>White</td>\n",
       "      <td>...</td>\n",
       "      <td>Controlled drugs</td>\n",
       "      <td>A no further action disposal</td>\n",
       "      <td>NaN</td>\n",
       "      <td>False</td>\n",
       "      <td>devon-and-cornwall</td>\n",
       "      <td>NaN</td>\n",
       "      <td>0</td>\n",
       "      <td>12</td>\n",
       "      <td>Sunday</td>\n",
       "      <td>0</td>\n",
       "    </tr>\n",
       "    <tr>\n",
       "      <th>3</th>\n",
       "      <td>e63a036a-a728-4efe-8e08-7198f56d6d0a</td>\n",
       "      <td>Person search</td>\n",
       "      <td>2019-12-01 00:10:00</td>\n",
       "      <td>False</td>\n",
       "      <td>NaN</td>\n",
       "      <td>NaN</td>\n",
       "      <td>Male</td>\n",
       "      <td>18-24</td>\n",
       "      <td>NaN</td>\n",
       "      <td>Asian</td>\n",
       "      <td>...</td>\n",
       "      <td>Controlled drugs</td>\n",
       "      <td>A no further action disposal</td>\n",
       "      <td>NaN</td>\n",
       "      <td>False</td>\n",
       "      <td>devon-and-cornwall</td>\n",
       "      <td>NaN</td>\n",
       "      <td>0</td>\n",
       "      <td>12</td>\n",
       "      <td>Sunday</td>\n",
       "      <td>0</td>\n",
       "    </tr>\n",
       "    <tr>\n",
       "      <th>4</th>\n",
       "      <td>40c70aca-1f7f-4efe-8c5b-ade0f2e9937d</td>\n",
       "      <td>Person search</td>\n",
       "      <td>2019-12-01 00:12:00</td>\n",
       "      <td>True</td>\n",
       "      <td>50.368247</td>\n",
       "      <td>-4.126646</td>\n",
       "      <td>Male</td>\n",
       "      <td>18-24</td>\n",
       "      <td>NaN</td>\n",
       "      <td>White</td>\n",
       "      <td>...</td>\n",
       "      <td>Controlled drugs</td>\n",
       "      <td>A no further action disposal</td>\n",
       "      <td>NaN</td>\n",
       "      <td>False</td>\n",
       "      <td>devon-and-cornwall</td>\n",
       "      <td>devon-and-cornwall1</td>\n",
       "      <td>0</td>\n",
       "      <td>12</td>\n",
       "      <td>Sunday</td>\n",
       "      <td>0</td>\n",
       "    </tr>\n",
       "    <tr>\n",
       "      <th>...</th>\n",
       "      <td>...</td>\n",
       "      <td>...</td>\n",
       "      <td>...</td>\n",
       "      <td>...</td>\n",
       "      <td>...</td>\n",
       "      <td>...</td>\n",
       "      <td>...</td>\n",
       "      <td>...</td>\n",
       "      <td>...</td>\n",
       "      <td>...</td>\n",
       "      <td>...</td>\n",
       "      <td>...</td>\n",
       "      <td>...</td>\n",
       "      <td>...</td>\n",
       "      <td>...</td>\n",
       "      <td>...</td>\n",
       "      <td>...</td>\n",
       "      <td>...</td>\n",
       "      <td>...</td>\n",
       "      <td>...</td>\n",
       "      <td>...</td>\n",
       "    </tr>\n",
       "    <tr>\n",
       "      <th>660606</th>\n",
       "      <td>a23dc59d-29fe-48e5-b012-81feb6acfddf</td>\n",
       "      <td>Person search</td>\n",
       "      <td>2018-08-29 02:45:00</td>\n",
       "      <td>False</td>\n",
       "      <td>NaN</td>\n",
       "      <td>NaN</td>\n",
       "      <td>Male</td>\n",
       "      <td>18-24</td>\n",
       "      <td>White - English/Welsh/Scottish/Northern Irish/...</td>\n",
       "      <td>White</td>\n",
       "      <td>...</td>\n",
       "      <td>Controlled drugs</td>\n",
       "      <td>A no further action disposal</td>\n",
       "      <td>NaN</td>\n",
       "      <td>False</td>\n",
       "      <td>wiltshire</td>\n",
       "      <td>NaN</td>\n",
       "      <td>2</td>\n",
       "      <td>8</td>\n",
       "      <td>Wednesday</td>\n",
       "      <td>0</td>\n",
       "    </tr>\n",
       "    <tr>\n",
       "      <th>660607</th>\n",
       "      <td>425fde18-f7d5-4ebe-baf4-714cadd5a445</td>\n",
       "      <td>Person and Vehicle search</td>\n",
       "      <td>2018-08-29 21:00:00</td>\n",
       "      <td>False</td>\n",
       "      <td>51.540219</td>\n",
       "      <td>-1.764708</td>\n",
       "      <td>Male</td>\n",
       "      <td>18-24</td>\n",
       "      <td>White - English/Welsh/Scottish/Northern Irish/...</td>\n",
       "      <td>White</td>\n",
       "      <td>...</td>\n",
       "      <td>Controlled drugs</td>\n",
       "      <td>Penalty Notice for Disorder</td>\n",
       "      <td>True</td>\n",
       "      <td>False</td>\n",
       "      <td>wiltshire</td>\n",
       "      <td>wiltshire8</td>\n",
       "      <td>21</td>\n",
       "      <td>8</td>\n",
       "      <td>Wednesday</td>\n",
       "      <td>1</td>\n",
       "    </tr>\n",
       "    <tr>\n",
       "      <th>660608</th>\n",
       "      <td>7c249ab7-d4bf-47ef-86bd-aad51d7d2aab</td>\n",
       "      <td>Person search</td>\n",
       "      <td>2018-08-29 21:10:00</td>\n",
       "      <td>False</td>\n",
       "      <td>51.540219</td>\n",
       "      <td>-1.764708</td>\n",
       "      <td>Male</td>\n",
       "      <td>18-24</td>\n",
       "      <td>White - English/Welsh/Scottish/Northern Irish/...</td>\n",
       "      <td>White</td>\n",
       "      <td>...</td>\n",
       "      <td>Controlled drugs</td>\n",
       "      <td>A no further action disposal</td>\n",
       "      <td>NaN</td>\n",
       "      <td>False</td>\n",
       "      <td>wiltshire</td>\n",
       "      <td>wiltshire8</td>\n",
       "      <td>21</td>\n",
       "      <td>8</td>\n",
       "      <td>Wednesday</td>\n",
       "      <td>0</td>\n",
       "    </tr>\n",
       "    <tr>\n",
       "      <th>660609</th>\n",
       "      <td>4fa54513-20c4-4a53-a5db-8a4bb85b1e32</td>\n",
       "      <td>Person search</td>\n",
       "      <td>2018-08-29 21:15:00</td>\n",
       "      <td>False</td>\n",
       "      <td>51.540219</td>\n",
       "      <td>-1.764708</td>\n",
       "      <td>Male</td>\n",
       "      <td>18-24</td>\n",
       "      <td>White - English/Welsh/Scottish/Northern Irish/...</td>\n",
       "      <td>White</td>\n",
       "      <td>...</td>\n",
       "      <td>Controlled drugs</td>\n",
       "      <td>A no further action disposal</td>\n",
       "      <td>NaN</td>\n",
       "      <td>False</td>\n",
       "      <td>wiltshire</td>\n",
       "      <td>wiltshire8</td>\n",
       "      <td>21</td>\n",
       "      <td>8</td>\n",
       "      <td>Wednesday</td>\n",
       "      <td>0</td>\n",
       "    </tr>\n",
       "    <tr>\n",
       "      <th>660610</th>\n",
       "      <td>4d8604d3-9864-4fd5-a811-f8ce7bed619a</td>\n",
       "      <td>Person search</td>\n",
       "      <td>2018-08-30 13:15:00</td>\n",
       "      <td>False</td>\n",
       "      <td>NaN</td>\n",
       "      <td>NaN</td>\n",
       "      <td>Female</td>\n",
       "      <td>over 34</td>\n",
       "      <td>White - English/Welsh/Scottish/Northern Irish/...</td>\n",
       "      <td>White</td>\n",
       "      <td>...</td>\n",
       "      <td>Controlled drugs</td>\n",
       "      <td>Caution (simple or conditional)</td>\n",
       "      <td>NaN</td>\n",
       "      <td>False</td>\n",
       "      <td>wiltshire</td>\n",
       "      <td>NaN</td>\n",
       "      <td>13</td>\n",
       "      <td>8</td>\n",
       "      <td>Thursday</td>\n",
       "      <td>0</td>\n",
       "    </tr>\n",
       "  </tbody>\n",
       "</table>\n",
       "<p>308129 rows × 21 columns</p>\n",
       "</div>"
      ],
      "text/plain": [
       "                              observation_id                       Type  \\\n",
       "0       34d76816-cfc2-4bdd-b3a2-bf0c40b12689              Person search   \n",
       "1       83c87ec1-e6d4-4bbb-8e0c-159516706359              Person search   \n",
       "2       8c2eae4b-035a-492f-92d6-cd27e6c900a1              Person search   \n",
       "3       e63a036a-a728-4efe-8e08-7198f56d6d0a              Person search   \n",
       "4       40c70aca-1f7f-4efe-8c5b-ade0f2e9937d              Person search   \n",
       "...                                      ...                        ...   \n",
       "660606  a23dc59d-29fe-48e5-b012-81feb6acfddf              Person search   \n",
       "660607  425fde18-f7d5-4ebe-baf4-714cadd5a445  Person and Vehicle search   \n",
       "660608  7c249ab7-d4bf-47ef-86bd-aad51d7d2aab              Person search   \n",
       "660609  4fa54513-20c4-4a53-a5db-8a4bb85b1e32              Person search   \n",
       "660610  4d8604d3-9864-4fd5-a811-f8ce7bed619a              Person search   \n",
       "\n",
       "                      Date  Part of a policing operation   Latitude  \\\n",
       "0      2019-12-01 00:00:00                          True        NaN   \n",
       "1      2019-12-01 00:09:00                          True        NaN   \n",
       "2      2019-12-01 00:10:00                          True        NaN   \n",
       "3      2019-12-01 00:10:00                         False        NaN   \n",
       "4      2019-12-01 00:12:00                          True  50.368247   \n",
       "...                    ...                           ...        ...   \n",
       "660606 2018-08-29 02:45:00                         False        NaN   \n",
       "660607 2018-08-29 21:00:00                         False  51.540219   \n",
       "660608 2018-08-29 21:10:00                         False  51.540219   \n",
       "660609 2018-08-29 21:15:00                         False  51.540219   \n",
       "660610 2018-08-30 13:15:00                         False        NaN   \n",
       "\n",
       "        Longitude  Gender Age range  \\\n",
       "0             NaN    Male     18-24   \n",
       "1             NaN    Male     18-24   \n",
       "2             NaN  Female     18-24   \n",
       "3             NaN    Male     18-24   \n",
       "4       -4.126646    Male     18-24   \n",
       "...           ...     ...       ...   \n",
       "660606        NaN    Male     18-24   \n",
       "660607  -1.764708    Male     18-24   \n",
       "660608  -1.764708    Male     18-24   \n",
       "660609  -1.764708    Male     18-24   \n",
       "660610        NaN  Female   over 34   \n",
       "\n",
       "                                   Self-defined ethnicity  \\\n",
       "0        Asian/Asian British - Any other Asian background   \n",
       "1                                                     NaN   \n",
       "2       White - English/Welsh/Scottish/Northern Irish/...   \n",
       "3                                                     NaN   \n",
       "4                                                     NaN   \n",
       "...                                                   ...   \n",
       "660606  White - English/Welsh/Scottish/Northern Irish/...   \n",
       "660607  White - English/Welsh/Scottish/Northern Irish/...   \n",
       "660608  White - English/Welsh/Scottish/Northern Irish/...   \n",
       "660609  White - English/Welsh/Scottish/Northern Irish/...   \n",
       "660610  White - English/Welsh/Scottish/Northern Irish/...   \n",
       "\n",
       "       Officer-defined ethnicity  ...  Object of search  \\\n",
       "0                          Asian  ...  Controlled drugs   \n",
       "1                          White  ...  Controlled drugs   \n",
       "2                          White  ...  Controlled drugs   \n",
       "3                          Asian  ...  Controlled drugs   \n",
       "4                          White  ...  Controlled drugs   \n",
       "...                          ...  ...               ...   \n",
       "660606                     White  ...  Controlled drugs   \n",
       "660607                     White  ...  Controlled drugs   \n",
       "660608                     White  ...  Controlled drugs   \n",
       "660609                     White  ...  Controlled drugs   \n",
       "660610                     White  ...  Controlled drugs   \n",
       "\n",
       "                                Outcome Outcome linked to object of search  \\\n",
       "0          A no further action disposal                                NaN   \n",
       "1          A no further action disposal                                NaN   \n",
       "2          A no further action disposal                                NaN   \n",
       "3          A no further action disposal                                NaN   \n",
       "4          A no further action disposal                                NaN   \n",
       "...                                 ...                                ...   \n",
       "660606     A no further action disposal                                NaN   \n",
       "660607      Penalty Notice for Disorder                               True   \n",
       "660608     A no further action disposal                                NaN   \n",
       "660609     A no further action disposal                                NaN   \n",
       "660610  Caution (simple or conditional)                                NaN   \n",
       "\n",
       "       Removal of more than just outer clothing             station  \\\n",
       "0                                         False  devon-and-cornwall   \n",
       "1                                         False  devon-and-cornwall   \n",
       "2                                         False  devon-and-cornwall   \n",
       "3                                         False  devon-and-cornwall   \n",
       "4                                         False  devon-and-cornwall   \n",
       "...                                         ...                 ...   \n",
       "660606                                    False           wiltshire   \n",
       "660607                                    False           wiltshire   \n",
       "660608                                    False           wiltshire   \n",
       "660609                                    False           wiltshire   \n",
       "660610                                    False           wiltshire   \n",
       "\n",
       "                    cluster hour  month  day_of_week target  \n",
       "0                       NaN    0     12       Sunday      0  \n",
       "1                       NaN    0     12       Sunday      0  \n",
       "2                       NaN    0     12       Sunday      0  \n",
       "3                       NaN    0     12       Sunday      0  \n",
       "4       devon-and-cornwall1    0     12       Sunday      0  \n",
       "...                     ...  ...    ...          ...    ...  \n",
       "660606                  NaN    2      8    Wednesday      0  \n",
       "660607           wiltshire8   21      8    Wednesday      1  \n",
       "660608           wiltshire8   21      8    Wednesday      0  \n",
       "660609           wiltshire8   21      8    Wednesday      0  \n",
       "660610                  NaN   13      8     Thursday      0  \n",
       "\n",
       "[308129 rows x 21 columns]"
      ]
     },
     "execution_count": 2,
     "metadata": {},
     "output_type": "execute_result"
    }
   ],
   "source": [
    "with open('dtypes_pre_process.pickle', 'rb') as fh:\n",
    "    dtypes_pre = pickle.load(fh)\n",
    "df_clean_path = '../capstone_train/df_clean.csv'\n",
    "df_clean = pd.read_csv(df_clean_path, index_col=0).astype(dtypes_pre)\n",
    "df_clean"
   ]
  },
  {
   "cell_type": "markdown",
   "id": "answering-potter",
   "metadata": {},
   "source": [
    "## Define functions  <a class=\"anchor\" id=\"3\"></a>"
   ]
  },
  {
   "cell_type": "code",
   "execution_count": 3,
   "id": "according-cheat",
   "metadata": {},
   "outputs": [],
   "source": [
    "class MyLEncoder(BaseEstimator, TransformerMixin):\n",
    "\n",
    "    # Save the enc during fitting\n",
    "    def fit(self, X, y, **fit_params):\n",
    "        enc = LeaveOneOutEncoder()\n",
    "        self.enc = enc.fit(np.asarray(X), y)\n",
    "        return self\n",
    "\n",
    "    def transform(self, X, **fit_params):\n",
    "        enc_data = self.enc.transform(np.asarray(X))\n",
    "        return enc_data\n",
    "\n",
    "    def get_feature_names(self, **fit_params):\n",
    "        feature_list = self.enc.get_feature_names()\n",
    "        return feature_list"
   ]
  },
  {
   "cell_type": "code",
   "execution_count": 4,
   "id": "norwegian-gateway",
   "metadata": {},
   "outputs": [],
   "source": [
    "def verify_no_discrimination(X_test, y_test, y_pred, sensitive_class, min_samples, max_diff=0.05):\n",
    "    \n",
    "    def calculate_discrimination(X_test, y_true, y_pred, sensitive_column, min_samples, max_diff):\n",
    "        departments = X_test['station'].unique()\n",
    "        sensitive_classes = X_test[sensitive_column].unique()\n",
    "        \n",
    "        # station success for each sensitive class\n",
    "        problematic_departments = []\n",
    "        good_deparments = []\n",
    "        ignored_departments = []\n",
    "        for department in departments:\n",
    "            precisions = {}\n",
    "            \n",
    "            #  calculate precision\n",
    "            for sensitive_class in sensitive_classes:\n",
    "                mask = (X_test[sensitive_column] == sensitive_class) & (X_test['station'] == department)\n",
    "                if np.sum(mask) > min_samples:\n",
    "                    mask = mask.astype(bool) \n",
    "                    precisions[sensitive_class] = precision_score(y_true[mask], y_pred[mask], pos_label=1)\n",
    "\n",
    "            # classify department performance based on precision difference between classes\n",
    "            if len(precisions) > 1:    \n",
    "                diff = np.max(list(precisions.values())) - np.min(list(precisions.values()))\n",
    "                if diff > max_diff:\n",
    "                    problematic_departments.append((department, diff, precisions))\n",
    "                else:\n",
    "                    good_deparments.append((department, diff, precisions))\n",
    "            else:\n",
    "                ignored_departments.append((department, None, []))\n",
    "\n",
    "        \n",
    "        # global success for each sensitive class\n",
    "        global_precisions = {}\n",
    "        for sensitive_class in sensitive_classes:\n",
    "            mask = (X_test[sensitive_column] == sensitive_class)\n",
    "            if np.sum(mask) > min_samples:\n",
    "                mask = mask.astype(bool)\n",
    "                global_precisions[sensitive_class] = precision_score(y_true[mask], y_pred[mask], pos_label=1)\n",
    "\n",
    "                \n",
    "        return problematic_departments, good_deparments, ignored_departments, global_precisions\n",
    "              \n",
    "    #\n",
    "    #\n",
    "    #\n",
    "    \n",
    "    print(f\"{sensitive_class}\")\n",
    "\n",
    "    problematic_departments, good_deparments, ignored_departments, global_precisions = calculate_discrimination(\n",
    "        X_test, y_test, y_pred, sensitive_class, min_samples, max_diff)\n",
    "\n",
    "    print(\"Global rates: {}\".format(global_precisions))\n",
    "    print(\"Num problematic departments: {}\".format(len(problematic_departments)))\n",
    "    print(\"Num good departments: {}\".format(len(good_deparments)))\n",
    "    print(\"avg diff:\", np.mean([p[1] for p in problematic_departments]))\n",
    "    print(\"Departments analysed: {}\".format(len(problematic_departments) + len(good_deparments))) \n",
    "    \n",
    "    problematic_sorted = sorted(problematic_departments, key=lambda tup: tup[1], reverse=True)\n",
    "    good_sorted = sorted(good_deparments, key=lambda tup: tup[1], reverse=True)\n",
    "    \n",
    "    return problematic_sorted, good_sorted, ignored_departments"
   ]
  },
  {
   "cell_type": "code",
   "execution_count": 66,
   "id": "resident-freeze",
   "metadata": {},
   "outputs": [],
   "source": [
    "def verify_success_per_station_per_objective(X_test, y_true, y_pred, min_samples = 30):\n",
    "    stations = X_test['station'].unique()\n",
    "    \n",
    "    obj_column = 'Object of search'\n",
    "    objectives = X_test[obj_column].unique()\n",
    "  \n",
    "    station_objs_precison = {}\n",
    "    station_avg_precison = {}\n",
    "\n",
    "    for station in stations:\n",
    "        mask = X_test['station'] == station\n",
    "        mask = mask.astype(bool) \n",
    "        station_avg_precison[station] = precision_score(y_true[mask], y_pred[mask], pos_label=1)\n",
    "        \n",
    "        objectives_precision = {}\n",
    "        \n",
    "        #  calculate precision\n",
    "        for obj in objectives:\n",
    "            mask = (X_test[obj_column] == obj) & (X_test['station'] == station)\n",
    "            if np.sum(mask) > min_samples:\n",
    "                mask = mask.astype(bool) \n",
    "                objectives_precision[obj] = precision_score(y_true[mask], y_pred[mask], pos_label=1)\n",
    "                \n",
    "        station_objs_precison[station] = objectives_precision \n",
    "        \n",
    "    list_station_precision = []\n",
    "    \n",
    "    for station in station_objs_precison:\n",
    "        for obj in station_objs_precison[station]:\n",
    "            row = [station, obj, station_objs_precison[station][obj]]\n",
    "            list_station_precision.append(row)\n",
    "    \n",
    "    df_sta_obs_prec = pd.DataFrame(columns=['station', 'Object of search', 'precision'], data=list_station_precision)\n",
    "    df_sta_obs_prec = df_sta_obs_prec[df_sta_obs_prec.precision != 0].sort_values(by='precision', ascending='True')\n",
    "    \n",
    "    station_avg_precison_sorted = dict(sorted(station_avg_precison.items(), key=lambda item: item[1]))\n",
    "    station_avg_precison_sorted = pd.DataFrame(columns=['station', 'precision'], data=station_avg_precison.items())\n",
    "    station_avg_precison_sorted = station_avg_precison_sorted[station_avg_precison_sorted.precision != 0].sort_values(by='precision', ascending='True')\n",
    "    \n",
    "    return df_sta_obs_prec, station_avg_precison_sorted"
   ]
  },
  {
   "cell_type": "code",
   "execution_count": 6,
   "id": "round-oregon",
   "metadata": {},
   "outputs": [],
   "source": [
    "#Get the confusion matrix\n",
    "def confusion_matrix_plot(y_test, y_pred_threshold):\n",
    "    cf_matrix = confusion_matrix(y_test, y_pred_threshold)\n",
    "\n",
    "    group_names = ['True Neg','False Pos','False Neg','True Pos']\n",
    "    group_counts = ['{0:0.0f}'.format(value) for value in cf_matrix.flatten()]\n",
    "    group_percentages = ['{0:.2%}'.format(value) for value in cf_matrix.flatten()/np.sum(cf_matrix)]\n",
    "\n",
    "    labels = [f'{v1}\\n{v2}\\n{v3}' for v1, v2, v3 in zip(group_names,group_counts,group_percentages)]\n",
    "    labels = np.asarray(labels).reshape(2,2)\n",
    "\n",
    "    fig = plt.subplots(figsize=(8,8))         # Sample figsize in inches\n",
    "    sns.heatmap(cf_matrix, annot=labels, fmt='', cmap='Blues', linewidths=10, annot_kws={\"size\": 12})\n",
    "    \n",
    "    return cf_matrix"
   ]
  },
  {
   "cell_type": "code",
   "execution_count": 7,
   "id": "large-plane",
   "metadata": {},
   "outputs": [],
   "source": [
    "def precision_recall_plot(y_test, y_pred, min_precision):\n",
    "    precision, recall, thresholds = precision_recall_curve(y_test, y_pred)\n",
    "    precision = precision[:-1]\n",
    "    recall = recall[:-1]\n",
    "    \n",
    "    fig=plt.figure(figsize=(6,6))\n",
    "    ax1 = plt.subplot(211)\n",
    "    ax2 = plt.subplot(212)\n",
    "    ax1.hlines(y=min_precision,xmin=0, xmax=1, colors='red')\n",
    "    ax1.plot(thresholds, precision)\n",
    "    ax2.plot(thresholds, recall)\n",
    "    ax1.get_shared_x_axes().join(ax1, ax2)\n",
    "    ax1.set_xticklabels([])\n",
    "    ax1.set_title('Precision')\n",
    "    ax2.set_title('Recall')\n",
    "    plt.xlabel('Threshold')\n",
    "    plt.show()\n",
    "    \n",
    "    min_index = [i for i, prec in enumerate(precision) if prec >= min_precision][0]\n",
    "    print('optimal_threshold[min_index]: ', round(thresholds[min_index],3))\n",
    "    print('precision[min_index]: ', round(precision[min_index],3))\n",
    "    print('recall[min_index]: ', round(recall[min_index],3))"
   ]
  },
  {
   "cell_type": "code",
   "execution_count": 8,
   "id": "fundamental-affect",
   "metadata": {},
   "outputs": [],
   "source": [
    "def calibration_plot(y_test, y_pred, n_bins, normalize):\n",
    "    g_y, g_x = calibration_curve(y_test, y_pred, n_bins=n_bins, normalize=normalize)\n",
    "\n",
    "    fig, ax = plt.subplots()\n",
    "    fig.suptitle( 'Calibration plot')\n",
    "\n",
    "    plt.plot(g_x,g_y, marker='o', linewidth=1, label='g')\n",
    "\n",
    "    line = mlines.Line2D([0, 1], [0, 1], color='black')\n",
    "    transform = ax.transAxes\n",
    "    line.set_transform(transform)\n",
    "    ax.add_line(line)\n",
    "    ax.set_xlabel('Predicted probability')\n",
    "    ax.set_ylabel('True probability in each bin')\n",
    "\n",
    "    plt.legend(); plt.show()"
   ]
  },
  {
   "cell_type": "code",
   "execution_count": 9,
   "id": "pharmaceutical-staff",
   "metadata": {},
   "outputs": [],
   "source": [
    "def bin_total(y_test, y_pred, n_bins):\n",
    "    bins = np.linspace(0., 1. + 1e-8, n_bins + 1)\n",
    "\n",
    "    # In sklearn.calibration.calibration_curve,\n",
    "    # the last value in the array is always 0.\n",
    "    binids = np.digitize(y_pred, bins) - 1\n",
    "\n",
    "    return np.bincount(binids, minlength=len(bins))"
   ]
  },
  {
   "cell_type": "code",
   "execution_count": 10,
   "id": "cooperative-knowing",
   "metadata": {},
   "outputs": [],
   "source": [
    "def verify_amount_found(y_true, y_pred):\n",
    "    \"\"\"\n",
    "    Verifies the amout of contraband found in the test dataset - a.k.a the recall in our test set\n",
    "    \"\"\"\n",
    "    recall = recall_score(y_true, y_pred, pos_label=True)    \n",
    "    return recall"
   ]
  },
  {
   "cell_type": "code",
   "execution_count": 11,
   "id": "collect-intensity",
   "metadata": {},
   "outputs": [],
   "source": [
    "def roc_curve_plot(y_true, y_pred):\n",
    "    roc = roc_auc_score(y_test, y_pred)\n",
    "    false_positive_rate, true_positive_rate, thresholds = roc_curve(y_test, y_pred)\n",
    "    plt.figure()\n",
    "    lw = 2\n",
    "    plt.plot(false_positive_rate, true_positive_rate, color='darkorange', lw=lw, label='ROC curve (area = %0.2f)' % roc)\n",
    "    plt.plot([0, 1], [0, 1], color='navy', lw=lw, linestyle='--')\n",
    "    plt.xlim([0.0, 1.0])\n",
    "    plt.ylim([0.0, 1.05])\n",
    "    plt.xlabel('False Positive Rate - Precision')\n",
    "    plt.ylabel('True Positive Rate - Recall')\n",
    "    plt.title('ROC curve')\n",
    "    plt.legend(loc=\"lower right\")\n",
    "    plt.show()"
   ]
  },
  {
   "cell_type": "markdown",
   "id": "neither-marathon",
   "metadata": {},
   "source": [
    "## Model   <a class=\"anchor\" id=\"4\"></a>"
   ]
  },
  {
   "cell_type": "code",
   "execution_count": 12,
   "id": "controlled-fields",
   "metadata": {},
   "outputs": [],
   "source": [
    "# Exclude 'Age range', 'Self-defined ethnicity', 'observation_id','Removal of more than just outer clothing', 'Latitude'/'Longitude'\n",
    "# 'Gender', 'Officer-defined ethnicity'\n",
    "all_features = ['station', \n",
    "                'Type',\n",
    "                'Part of a policing operation',\n",
    "                'Object of search', \n",
    "                'Legislation', \n",
    "                'day_of_week', \n",
    "                'hour', \n",
    "                'month', \n",
    "                'cluster', ]\n",
    "                #'Age range', 'Gender', 'Officer-defined ethnicity']\n",
    "numerical_features = ['hour', 'month']\n",
    "categorical_features = [ 'Object of search', \n",
    "                        'Legislation', \n",
    "                        'Type', \n",
    "                        'Part of a policing operation', \n",
    "                        'station', \n",
    "                        'day_of_week','cluster', ]\n",
    "                        #'Age range', 'Gender', 'Officer-defined ethnicity']\n",
    "#categorical_features2 = ['cluster']\n",
    "target = 'target'"
   ]
  },
  {
   "cell_type": "code",
   "execution_count": 13,
   "id": "beneficial-couple",
   "metadata": {},
   "outputs": [],
   "source": [
    "df_train, df_test = train_test_split(df_clean, test_size=0.2, random_state=42, stratify=df_clean[target])\n",
    "\n",
    "X_train = df_train[all_features]\n",
    "y_train = df_train[target]\n",
    "\n",
    "X_test = df_test[all_features]\n",
    "y_test = df_test[target] "
   ]
  },
  {
   "cell_type": "code",
   "execution_count": 14,
   "id": "visible-proportion",
   "metadata": {},
   "outputs": [],
   "source": [
    "# Try oversampling\n",
    "# Obatin column index for categorical features\n",
    "# cat_col_index = [0, 1, 2, 3, 4, 5, 8, 9, 10, 11]\n",
    "# smotenc = SMOTENC(categorical_features=cat_col_index, \n",
    "#                   random_state = 42, \n",
    "#                   sampling_strategy = 'minority', \n",
    "#                   k_neighbors=3, \n",
    "#                   n_jobs=-1)\n",
    "# X_oversample_all, y_oversample_all = smotenc.fit_resample(X_train, y_train)"
   ]
  },
  {
   "cell_type": "code",
   "execution_count": 15,
   "id": "strategic-plastic",
   "metadata": {},
   "outputs": [],
   "source": [
    "# X_oversample_model = X_oversample_all[all_features]"
   ]
  },
  {
   "cell_type": "code",
   "execution_count": 16,
   "id": "smooth-breakfast",
   "metadata": {
    "scrolled": false
   },
   "outputs": [],
   "source": [
    "numeric_transformer = Pipeline(steps=[\n",
    "    ('imputer', SimpleImputer(strategy='mean')),\n",
    "    ('scaler', StandardScaler())])\n",
    "\n",
    "categorical_transformer = Pipeline(steps=[\n",
    "    ('imputer', SimpleImputer(strategy='constant', fill_value='missing')),\n",
    "    ('onehot', OneHotEncoder(handle_unknown='ignore'))])#MyLEncoder())])  ### # \n",
    "\n",
    "# categorical_transformer2 = Pipeline(steps=[\n",
    "#     ('imputer', SimpleImputer(strategy='constant', fill_value='missing')),\n",
    "#     ('onehot', MyLEncoder())])  ### # \n",
    "\n",
    "preprocessor = ColumnTransformer(\n",
    "    transformers=[\n",
    "        ('num', numeric_transformer, numerical_features),\n",
    "        ('cat', categorical_transformer, categorical_features)]\n",
    "        #('cat2', categorical_transformer2, categorical_features2)]\n",
    ")\n",
    "\n",
    "pipeline = make_pipeline(\n",
    "    preprocessor,\n",
    "    xgboost.XGBRegressor(random_state=42) #reg_alpha=1, objective = 'binary:logistic'\n",
    "#     CalibratedClassifierCV(\n",
    "#         xgboost.XGBClassifier(random_state=42, reg_alpha=0.8, scale_pos_weight=4, \n",
    "#                               objective = 'binary:logistic', eval_metric='logloss')\n",
    "#     )\n",
    ")\n",
    "\n",
    "pipeline.fit(X_train, y_train)\n",
    "\n",
    "#y_pred = pipeline.predict_proba(X_test) y_pred = [y[1] for y in y_pred]\n",
    "y_pred = pipeline.predict(X_test)\n",
    "y_pred_train = pipeline.predict(X_train)"
   ]
  },
  {
   "cell_type": "markdown",
   "id": "horizontal-client",
   "metadata": {},
   "source": [
    "## Model evaluation   <a class=\"anchor\" id=\"5\"></a>"
   ]
  },
  {
   "cell_type": "code",
   "execution_count": 17,
   "id": "rational-doubt",
   "metadata": {},
   "outputs": [
    {
     "data": {
      "image/png": "[encoded data removed]",
      "text/plain": [
       "<Figure size 432x288 with 1 Axes>"
      ]
     },
     "metadata": {
      "needs_background": "light"
     },
     "output_type": "display_data"
    }
   ],
   "source": [
    "roc_curve_plot(y_test, y_pred)"
   ]
  },
  {
   "cell_type": "code",
   "execution_count": 18,
   "id": "arctic-humanity",
   "metadata": {},
   "outputs": [
    {
     "data": {
      "image/png": "[encoded data removed]",
      "text/plain": [
       "<Figure size 432x288 with 1 Axes>"
      ]
     },
     "metadata": {
      "needs_background": "light"
     },
     "output_type": "display_data"
    }
   ],
   "source": [
    "calibration_plot(y_test, y_pred, n_bins=20, normalize=True)"
   ]
  },
  {
   "cell_type": "code",
   "execution_count": 19,
   "id": "mysterious-airfare",
   "metadata": {},
   "outputs": [],
   "source": [
    "# bin_total(y_test, y_pred, n_bins=15)\n",
    "# brier_score_loss(y_test, y_pred, pos_label=2)"
   ]
  },
  {
   "cell_type": "code",
   "execution_count": 20,
   "id": "frank-cache",
   "metadata": {},
   "outputs": [],
   "source": [
    "# # model validation\n",
    "# n_splits , n_repeats = 5,3\n",
    "# cv = RepeatedStratifiedKFold(n_splits=n_splits, n_repeats=n_repeats, random_state=42)\n",
    "# print(cross_val_score(pipeline, X_test, y_test, scoring='roc_auc', cv=cv, n_jobs=-1)) # n_splits * n_repeats scores\n",
    "# # auc_roc stable around 0.67"
   ]
  },
  {
   "cell_type": "markdown",
   "id": "orange-deposit",
   "metadata": {},
   "source": [
    "### Find optimal threshold"
   ]
  },
  {
   "cell_type": "code",
   "execution_count": 21,
   "id": "vertical-christmas",
   "metadata": {},
   "outputs": [
    {
     "data": {
      "image/png": "[encoded data removed]",
      "text/plain": [
       "<Figure size 432x432 with 2 Axes>"
      ]
     },
     "metadata": {
      "needs_background": "light"
     },
     "output_type": "display_data"
    },
    {
     "name": "stdout",
     "output_type": "stream",
     "text": [
      "optimal_threshold[min_index]:  0.227\n",
      "precision[min_index]:  0.288\n",
      "recall[min_index]:  0.662\n"
     ]
    }
   ],
   "source": [
    "# find otimal prediction probablity threshold for a precision minimum\n",
    "min_precision = 0.288\n",
    "precision_recall_plot(y_test, y_pred, min_precision)"
   ]
  },
  {
   "cell_type": "code",
   "execution_count": 22,
   "id": "minute-fiction",
   "metadata": {},
   "outputs": [],
   "source": [
    "optimal_threshold  = 0.228 #0.228\n",
    "y_pred_threshold = np.array(list(map(lambda x: 1 if x > optimal_threshold else 0, y_pred)))"
   ]
  },
  {
   "cell_type": "markdown",
   "id": "infinite-windsor",
   "metadata": {},
   "source": [
    "\n",
    "### performance metrics"
   ]
  },
  {
   "cell_type": "code",
   "execution_count": 23,
   "id": "occupational-reaction",
   "metadata": {},
   "outputs": [
    {
     "name": "stdout",
     "output_type": "stream",
     "text": [
      "              precision    recall  f1-score   support\n",
      "\n",
      "           0       0.87      0.59      0.70     49221\n",
      "           1       0.29      0.66      0.40     12405\n",
      "\n",
      "    accuracy                           0.60     61626\n",
      "   macro avg       0.58      0.62      0.55     61626\n",
      "weighted avg       0.76      0.60      0.64     61626\n",
      "\n"
     ]
    }
   ],
   "source": [
    "print(classification_report(y_test, y_pred_threshold))"
   ]
  },
  {
   "cell_type": "code",
   "execution_count": 24,
   "id": "apart-lincoln",
   "metadata": {},
   "outputs": [
    {
     "data": {
      "image/png": "[encoded data removed]",
      "text/plain": [
       "<Figure size 576x576 with 2 Axes>"
      ]
     },
     "metadata": {
      "needs_background": "light"
     },
     "output_type": "display_data"
    }
   ],
   "source": [
    "conf_matrix = confusion_matrix_plot(y_test, y_pred_threshold)"
   ]
  },
  {
   "cell_type": "markdown",
   "id": "sticky-casting",
   "metadata": {},
   "source": [
    "### requirements metrics"
   ]
  },
  {
   "cell_type": "markdown",
   "id": "handy-combining",
   "metadata": {},
   "source": [
    "#### discrimnation"
   ]
  },
  {
   "cell_type": "code",
   "execution_count": 25,
   "id": "incoming-jason",
   "metadata": {},
   "outputs": [
    {
     "name": "stdout",
     "output_type": "stream",
     "text": [
      "Gender\n",
      "Global rates: {'Male': 0.2930018850141376, 'Female': 0.24614845938375352}\n",
      "Num problematic departments: 26\n",
      "Num good departments: 13\n",
      "avg diff: 0.13356625801121888\n",
      "Departments analysed: 39\n"
     ]
    },
    {
     "name": "stderr",
     "output_type": "stream",
     "text": [
      "/home/hrkbaltazar/.virtualenvs/capstone/lib/python3.8/site-packages/sklearn/metrics/_classification.py:1221: UndefinedMetricWarning: Precision is ill-defined and being set to 0.0 due to no predicted samples. Use `zero_division` parameter to control this behavior.\n",
      "  _warn_prf(average, modifier, msg_start, len(result))\n"
     ]
    }
   ],
   "source": [
    "problematic_stations_g, good_stations_g, ignored_stations_g = verify_no_discrimination(df_test, y_test, y_pred_threshold, 'Gender', 30)"
   ]
  },
  {
   "cell_type": "code",
   "execution_count": 26,
   "id": "worse-badge",
   "metadata": {},
   "outputs": [
    {
     "name": "stdout",
     "output_type": "stream",
     "text": [
      "Expected max diff between Genders in each station\n",
      "\n",
      " dyfed-powys :  66.67 %\n",
      "Male 33.33\n",
      "Female 100.0\n",
      "\n",
      " bedfordshire :  28.12 %\n",
      "Male 34.78\n",
      "Female 6.67\n"
     ]
    }
   ],
   "source": [
    "print(\"Expected max diff between Genders in each station\")\n",
    "for i in problematic_stations_g[0:2]:\n",
    "    print(\"\\n\", i[0],\": \", round(i[1]*100,2),\"%\")\n",
    "    for u in i[2]:\n",
    "        print(u, round(i[2][u]*100,2))"
   ]
  },
  {
   "cell_type": "code",
   "execution_count": 27,
   "id": "affiliated-blond",
   "metadata": {},
   "outputs": [
    {
     "name": "stdout",
     "output_type": "stream",
     "text": [
      "Officer-defined ethnicity\n",
      "Global rates: {'White': 0.284892861955887, 'Other': 0.3050847457627119, 'Black': 0.29822866344605475, 'Asian': 0.30276497695852533, 'Mixed': 0.3010204081632653}\n",
      "Num problematic departments: 24\n",
      "Num good departments: 6\n",
      "avg diff: 0.13100294292773162\n",
      "Departments analysed: 30\n"
     ]
    }
   ],
   "source": [
    "problematic_stations_e, good_stations_e, ignored_stations_e = verify_no_discrimination(df_test, y_test, y_pred_threshold, 'Officer-defined ethnicity', 40)"
   ]
  },
  {
   "cell_type": "code",
   "execution_count": 28,
   "id": "sexual-potential",
   "metadata": {},
   "outputs": [
    {
     "name": "stdout",
     "output_type": "stream",
     "text": [
      "Expected max diff between Ethnicties in each station\n",
      "\n",
      " leicestershire :  31.82 %\n",
      "White 32.73\n",
      "Black 18.18\n",
      "Asian 50.0\n",
      "\n",
      " lancashire :  26.0 %\n",
      "White 25.68\n",
      "Black 0.0\n",
      "Asian 26.0\n"
     ]
    }
   ],
   "source": [
    "print(\"Expected max diff between Ethnicties in each station\")\n",
    "for i in problematic_stations_e[0:2]:\n",
    "    print(\"\\n\", i[0],\": \", round(i[1]*100,2),\"%\")\n",
    "    for u in i[2]:\n",
    "        print(u, round(i[2][u]*100,2))"
   ]
  },
  {
   "cell_type": "markdown",
   "id": "adverse-crawford",
   "metadata": {},
   "source": [
    "#### minimum success per station/objective and maximum average success rate between station"
   ]
  },
  {
   "cell_type": "code",
   "execution_count": 67,
   "id": "essential-democracy",
   "metadata": {},
   "outputs": [
    {
     "name": "stderr",
     "output_type": "stream",
     "text": [
      "/home/hrkbaltazar/.virtualenvs/capstone/lib/python3.8/site-packages/sklearn/metrics/_classification.py:1221: UndefinedMetricWarning: Precision is ill-defined and being set to 0.0 due to no predicted samples. Use `zero_division` parameter to control this behavior.\n",
      "  _warn_prf(average, modifier, msg_start, len(result))\n"
     ]
    },
    {
     "data": {
      "text/html": [
       "<div>\n",
       "<style scoped>\n",
       "    .dataframe tbody tr th:only-of-type {\n",
       "        vertical-align: middle;\n",
       "    }\n",
       "\n",
       "    .dataframe tbody tr th {\n",
       "        vertical-align: top;\n",
       "    }\n",
       "\n",
       "    .dataframe thead th {\n",
       "        text-align: right;\n",
       "    }\n",
       "</style>\n",
       "<table border=\"1\" class=\"dataframe\">\n",
       "  <thead>\n",
       "    <tr style=\"text-align: right;\">\n",
       "      <th></th>\n",
       "      <th>station</th>\n",
       "      <th>Object of search</th>\n",
       "      <th>precision</th>\n",
       "    </tr>\n",
       "  </thead>\n",
       "  <tbody>\n",
       "    <tr>\n",
       "      <th>270</th>\n",
       "      <td>cleveland</td>\n",
       "      <td>Offensive weapons</td>\n",
       "      <td>0.047619</td>\n",
       "    </tr>\n",
       "    <tr>\n",
       "      <th>72</th>\n",
       "      <td>northumbria</td>\n",
       "      <td>Offensive weapons</td>\n",
       "      <td>0.090909</td>\n",
       "    </tr>\n",
       "    <tr>\n",
       "      <th>238</th>\n",
       "      <td>gloucestershire</td>\n",
       "      <td>Stolen goods</td>\n",
       "      <td>0.100000</td>\n",
       "    </tr>\n",
       "    <tr>\n",
       "      <th>259</th>\n",
       "      <td>west-mercia</td>\n",
       "      <td>Offensive weapons</td>\n",
       "      <td>0.117647</td>\n",
       "    </tr>\n",
       "    <tr>\n",
       "      <th>214</th>\n",
       "      <td>btp</td>\n",
       "      <td>Articles for use in criminal damage</td>\n",
       "      <td>0.125000</td>\n",
       "    </tr>\n",
       "  </tbody>\n",
       "</table>\n",
       "</div>"
      ],
      "text/plain": [
       "             station                     Object of search  precision\n",
       "270        cleveland                    Offensive weapons   0.047619\n",
       "72       northumbria                    Offensive weapons   0.090909\n",
       "238  gloucestershire                         Stolen goods   0.100000\n",
       "259      west-mercia                    Offensive weapons   0.117647\n",
       "214              btp  Articles for use in criminal damage   0.125000"
      ]
     },
     "execution_count": 67,
     "metadata": {},
     "output_type": "execute_result"
    }
   ],
   "source": [
    "df_station_obs_precision, station_avg_precison = verify_success_per_station_per_objective(df_test, y_test, y_pred_threshold, 1)\n",
    "df_station_obs_precision.head()"
   ]
  },
  {
   "cell_type": "code",
   "execution_count": 70,
   "id": "experimental-ozone",
   "metadata": {},
   "outputs": [
    {
     "data": {
      "text/html": [
       "<div>\n",
       "<style scoped>\n",
       "    .dataframe tbody tr th:only-of-type {\n",
       "        vertical-align: middle;\n",
       "    }\n",
       "\n",
       "    .dataframe tbody tr th {\n",
       "        vertical-align: top;\n",
       "    }\n",
       "\n",
       "    .dataframe thead th {\n",
       "        text-align: right;\n",
       "    }\n",
       "</style>\n",
       "<table border=\"1\" class=\"dataframe\">\n",
       "  <thead>\n",
       "    <tr style=\"text-align: right;\">\n",
       "      <th></th>\n",
       "      <th>station</th>\n",
       "      <th>precision</th>\n",
       "    </tr>\n",
       "  </thead>\n",
       "  <tbody>\n",
       "    <tr>\n",
       "      <th>36</th>\n",
       "      <td>north-yorkshire</td>\n",
       "      <td>0.142857</td>\n",
       "    </tr>\n",
       "    <tr>\n",
       "      <th>0</th>\n",
       "      <td>north-wales</td>\n",
       "      <td>0.171875</td>\n",
       "    </tr>\n",
       "    <tr>\n",
       "      <th>38</th>\n",
       "      <td>wiltshire</td>\n",
       "      <td>0.200000</td>\n",
       "    </tr>\n",
       "    <tr>\n",
       "      <th>15</th>\n",
       "      <td>thames-valley</td>\n",
       "      <td>0.222222</td>\n",
       "    </tr>\n",
       "    <tr>\n",
       "      <th>39</th>\n",
       "      <td>cumbria</td>\n",
       "      <td>0.225564</td>\n",
       "    </tr>\n",
       "  </tbody>\n",
       "</table>\n",
       "</div>"
      ],
      "text/plain": [
       "            station  precision\n",
       "36  north-yorkshire   0.142857\n",
       "0       north-wales   0.171875\n",
       "38        wiltshire   0.200000\n",
       "15    thames-valley   0.222222\n",
       "39          cumbria   0.225564"
      ]
     },
     "metadata": {},
     "output_type": "display_data"
    },
    {
     "data": {
      "text/html": [
       "<div>\n",
       "<style scoped>\n",
       "    .dataframe tbody tr th:only-of-type {\n",
       "        vertical-align: middle;\n",
       "    }\n",
       "\n",
       "    .dataframe tbody tr th {\n",
       "        vertical-align: top;\n",
       "    }\n",
       "\n",
       "    .dataframe thead th {\n",
       "        text-align: right;\n",
       "    }\n",
       "</style>\n",
       "<table border=\"1\" class=\"dataframe\">\n",
       "  <thead>\n",
       "    <tr style=\"text-align: right;\">\n",
       "      <th></th>\n",
       "      <th>station</th>\n",
       "      <th>precision</th>\n",
       "    </tr>\n",
       "  </thead>\n",
       "  <tbody>\n",
       "    <tr>\n",
       "      <th>2</th>\n",
       "      <td>city-of-london</td>\n",
       "      <td>0.340278</td>\n",
       "    </tr>\n",
       "    <tr>\n",
       "      <th>40</th>\n",
       "      <td>cambridgeshire</td>\n",
       "      <td>0.352941</td>\n",
       "    </tr>\n",
       "    <tr>\n",
       "      <th>3</th>\n",
       "      <td>leicestershire</td>\n",
       "      <td>0.362637</td>\n",
       "    </tr>\n",
       "    <tr>\n",
       "      <th>29</th>\n",
       "      <td>durham</td>\n",
       "      <td>0.373016</td>\n",
       "    </tr>\n",
       "    <tr>\n",
       "      <th>4</th>\n",
       "      <td>dyfed-powys</td>\n",
       "      <td>0.400000</td>\n",
       "    </tr>\n",
       "  </tbody>\n",
       "</table>\n",
       "</div>"
      ],
      "text/plain": [
       "           station  precision\n",
       "2   city-of-london   0.340278\n",
       "40  cambridgeshire   0.352941\n",
       "3   leicestershire   0.362637\n",
       "29          durham   0.373016\n",
       "4      dyfed-powys   0.400000"
      ]
     },
     "metadata": {},
     "output_type": "display_data"
    }
   ],
   "source": [
    "display(station_avg_precison[:5])\n",
    "display(station_avg_precison[-5:])"
   ]
  },
  {
   "cell_type": "code",
   "execution_count": 75,
   "id": "systematic-combining",
   "metadata": {},
   "outputs": [
    {
     "name": "stdout",
     "output_type": "stream",
     "text": [
      "Feature ranking:\n",
      "1. station_dyfed-powys (0.058588478714227676)\n",
      "2. station_humberside (0.035579606890678406)\n",
      "3. station_thames-valley (0.03014962002635002)\n",
      "4. station_south-yorkshire (0.02893012948334217)\n",
      "5. station_leicestershire (0.02260110341012478)\n",
      "6. Type_Person search (0.02224690094590187)\n",
      "7. station_merseyside (0.02199246548116207)\n",
      "8. Object of search_Controlled drugs (0.0213815625756979)\n",
      "9. station_lancashire (0.019116757437586784)\n",
      "10. station_durham (0.018261410295963287)\n"
     ]
    }
   ],
   "source": [
    "# top feature importance\n",
    "categorical_encode_step = pipeline.named_steps['columntransformer'].named_transformers_['cat'].named_steps['onehot']\n",
    "onehot_columns = categorical_encode_step.get_feature_names(input_features=categorical_features)\n",
    "\n",
    "xgb_regressor_step = pipeline.named_steps['xgbregressor']\n",
    "importances = pd.Series(data=xgb_regressor_step.feature_importances_, index = np.array(numerical_features + list(onehot_columns)))\n",
    "indices = np.argsort(importances)[::-1]\n",
    "\n",
    "print(\"Feature ranking:\")\n",
    "for f in range(10):\n",
    "    feature_name = importances.index[indices[f]]\n",
    "    \n",
    "    print(f\"{f+1}. {feature_name} ({importances[indices[f]]})\")"
   ]
  },
  {
   "cell_type": "markdown",
   "id": "nonprofit-paris",
   "metadata": {},
   "source": [
    "###  Models comparison"
   ]
  },
  {
   "cell_type": "markdown",
   "id": "requested-active",
   "metadata": {},
   "source": [
    "| Model |   Baseline    |  Second iteration   |  Third iteration   | Best model |\n",
    "|-------------------|---------|--------|--------|--------| \n",
    "| Requirement 1 - success rate |     0.33  |  0.27  |  0.29  |1 |\n",
    "| Requirement 2 - global discrimination (gender) | 0.22  | 0.12 |  0.12  |2=3 |\n",
    "| Requirement 2 - global discrimination (ethnicity) | 0.18  |  0.10   |  0.12  |2 | \n",
    "| Requirement 2 - nº of station discrimination above 5% (gender) | 26 |  24 |  24  |2=3 |\n",
    "| Requirement 2 - nº of station discrimination above 5% (ethnicity) | 30 |  22  |  25  | 2 |"
   ]
  },
  {
   "cell_type": "markdown",
   "id": "breathing-judges",
   "metadata": {},
   "source": [
    "# save model"
   ]
  },
  {
   "cell_type": "code",
   "execution_count": 32,
   "id": "weird-active",
   "metadata": {},
   "outputs": [],
   "source": [
    "# with open('columns.json', 'w') as fh:\n",
    "#     json.dump(X_train.columns.tolist(), fh)\n",
    "# joblib.dump(pipeline, 'pipeline.pickle')\n",
    "# with open('dtypes.pickle', 'wb') as fh:\n",
    "#     pickle.dump(X_train.dtypes, fh)"
   ]
  },
  {
   "cell_type": "markdown",
   "id": "disturbed-arabic",
   "metadata": {},
   "source": [
    "### Send observations from CSV file"
   ]
  },
  {
   "cell_type": "code",
   "execution_count": 33,
   "id": "induced-detector",
   "metadata": {},
   "outputs": [],
   "source": [
    "# df_predictions = pd.read_csv(\"../capstone_train/day_10_bk.csv\", sep=\",\")"
   ]
  },
  {
   "cell_type": "markdown",
   "id": "treated-island",
   "metadata": {},
   "source": [
    "### should_search"
   ]
  },
  {
   "cell_type": "code",
   "execution_count": 34,
   "id": "printable-buffer",
   "metadata": {},
   "outputs": [],
   "source": [
    "# url = \"http://localhost:5000/should_search/\" # https://capstone-henrique.herokuapp.com # http://localhost:5000\n",
    "# headers = {'Content-Type': 'application/json'}"
   ]
  },
  {
   "cell_type": "code",
   "execution_count": 35,
   "id": "naked-egypt",
   "metadata": {},
   "outputs": [],
   "source": [
    "# def send_request(observation, url: str, headers: dict):\n",
    "#     r = requests.post(url, data=json.dumps(observation), headers=headers)\n",
    "#     result = json.loads(r.text)\n",
    "#     return result"
   ]
  },
  {
   "cell_type": "code",
   "execution_count": 36,
   "id": "prompt-arctic",
   "metadata": {},
   "outputs": [],
   "source": [
    "# for row in df_predictions[4:5].iterrows():\n",
    "\n",
    "#     observation = row[1][2]\n",
    "#     res = json.loads(observation) \n",
    "#     date = pd.to_datetime(res['Date'][:19], infer_datetime_format=True)\n",
    "#     print(observation)\n",
    "#     send_request(res, url, headers)"
   ]
  },
  {
   "cell_type": "markdown",
   "id": "found-circumstances",
   "metadata": {},
   "source": [
    "### search-result"
   ]
  },
  {
   "cell_type": "code",
   "execution_count": 37,
   "id": "useful-andrews",
   "metadata": {},
   "outputs": [],
   "source": [
    "# url = \"https://capstone-henrique.herokuapp.com/search_result/\" # https://capstone-henrique.herokuapp.com # http://localhost:5000\n",
    "# headers = {'Content-Type': 'application/json'}"
   ]
  },
  {
   "cell_type": "code",
   "execution_count": 38,
   "id": "helpful-xerox",
   "metadata": {},
   "outputs": [],
   "source": [
    "# df_pred_update = df_predictions[:35][['observation_id', 'outcome']] #35\n",
    "# df_pred_update.to_dict('records')"
   ]
  },
  {
   "cell_type": "code",
   "execution_count": 39,
   "id": "frequent-psychiatry",
   "metadata": {},
   "outputs": [],
   "source": [
    "# df_pred_ready = df_pred_update.to_dict('records')\n",
    "# for obs in df_pred_ready:\n",
    "#     obs_clean = str(obs).replace('False','false').replace('True','true').replace('\\'','\\\"') #\n",
    "#     res = json.loads(obs_clean) \n",
    "#     print(res)\n",
    "#     send_request(res, url, headers)"
   ]
  }
 ],
 "metadata": {
  "kernelspec": {
   "display_name": "Python 3",
   "language": "python",
   "name": "python3"
  },
  "language_info": {
   "codemirror_mode": {
    "name": "ipython",
    "version": 3
   },
   "file_extension": ".py",
   "mimetype": "text/x-python",
   "name": "python",
   "nbconvert_exporter": "python",
   "pygments_lexer": "ipython3",
   "version": "3.8.5"
  }
 },
 "nbformat": 4,
 "nbformat_minor": 5
}
