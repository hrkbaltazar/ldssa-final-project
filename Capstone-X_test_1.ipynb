{
 "cells": [
  {
   "cell_type": "markdown",
   "id": "broke-upper",
   "metadata": {},
   "source": [
    "* [Analyse new data on Heroku 1st deployed model](#1)\n",
    "* [Predict on new data using imported model](#2)\n",
    "* [Train a model with the new data](#3)"
   ]
  },
  {
   "cell_type": "code",
   "execution_count": 1,
   "id": "connected-producer",
   "metadata": {},
   "outputs": [],
   "source": [
    "import json\n",
    "import joblib\n",
    "import pickle\n",
    "import pandas as pd\n",
    "import numpy as np\n",
    "import seaborn as sns\n",
    "\n",
    "import requests\n",
    "\n",
    "from sklearn.base import BaseEstimator, TransformerMixin\n",
    "\n",
    "from sklearn.model_selection import GridSearchCV\n",
    "from sklearn.model_selection import train_test_split\n",
    "from sklearn.model_selection import cross_validate, cross_val_score\n",
    "from sklearn.model_selection import KFold\n",
    "\n",
    "\n",
    "from sklearn.pipeline import make_pipeline, Pipeline\n",
    "from sklearn.impute import SimpleImputer\n",
    "from sklearn.preprocessing import StandardScaler, OneHotEncoder\n",
    "from sklearn.compose import ColumnTransformer\n",
    "from sklearn.ensemble import RandomForestClassifier\n",
    "\n",
    "from sklearn.metrics import classification_report\n",
    "from sklearn.metrics import precision_score, recall_score, roc_auc_score, f1_score\n",
    "from sklearn.metrics import make_scorer, accuracy_score\n",
    "from sklearn.metrics import confusion_matrix\n",
    "from sklearn.metrics import cohen_kappa_score\n",
    "from sklearn.metrics import precision_recall_curve\n",
    "from sklearn.metrics import log_loss\n",
    "\n",
    "\n",
    "from sklearn.metrics import roc_curve, auc\n",
    "\n",
    "from category_encoders import LeaveOneOutEncoder\n",
    "\n",
    "import xgboost\n",
    "\n",
    "import matplotlib.pyplot as plt\n",
    "import matplotlib.image as mpimg\n",
    "\n",
    "%matplotlib inline"
   ]
  },
  {
   "cell_type": "code",
   "execution_count": 2,
   "id": "massive-horror",
   "metadata": {},
   "outputs": [],
   "source": [
    "with open('dtypes_pre_process.pickle', 'rb') as fh:\n",
    "    dtypes_pre = pickle.load(fh)\n",
    "df_clean_path = '../capstone_train/df_clean.csv'\n",
    "df_old = pd.read_csv(df_clean_path, index_col=0).astype(dtypes_pre)"
   ]
  },
  {
   "cell_type": "code",
   "execution_count": 3,
   "id": "precise-radio",
   "metadata": {},
   "outputs": [],
   "source": [
    "# load new data and excluse observations without outcome\n",
    "df_new = pd.read_csv(\"../capstone_train/final_first.csv\")\n",
    "df_new_clean = df_new[~pd.isna(df_new.outcome)]"
   ]
  },
  {
   "cell_type": "code",
   "execution_count": 4,
   "id": "friendly-courtesy",
   "metadata": {
    "scrolled": true
   },
   "outputs": [
    {
     "data": {
      "text/html": [
       "<div>\n",
       "<style scoped>\n",
       "    .dataframe tbody tr th:only-of-type {\n",
       "        vertical-align: middle;\n",
       "    }\n",
       "\n",
       "    .dataframe tbody tr th {\n",
       "        vertical-align: top;\n",
       "    }\n",
       "\n",
       "    .dataframe thead th {\n",
       "        text-align: right;\n",
       "    }\n",
       "</style>\n",
       "<table border=\"1\" class=\"dataframe\">\n",
       "  <thead>\n",
       "    <tr style=\"text-align: right;\">\n",
       "      <th></th>\n",
       "      <th>id</th>\n",
       "      <th>observation_id</th>\n",
       "      <th>observation</th>\n",
       "      <th>predicted_outcome</th>\n",
       "      <th>outcome</th>\n",
       "    </tr>\n",
       "  </thead>\n",
       "  <tbody>\n",
       "    <tr>\n",
       "      <th>0</th>\n",
       "      <td>3858</td>\n",
       "      <td>6fa09def-2e3e-446e-8e2c-25ba579f0a92</td>\n",
       "      <td>{\"observation_id\": \"6fa09def-2e3e-446e-8e2c-25...</td>\n",
       "      <td>True</td>\n",
       "      <td>True</td>\n",
       "    </tr>\n",
       "    <tr>\n",
       "      <th>1</th>\n",
       "      <td>3857</td>\n",
       "      <td>0cc3ae49-ebad-487b-9024-5c0943a3bca3</td>\n",
       "      <td>{\"observation_id\": \"0cc3ae49-ebad-487b-9024-5c...</td>\n",
       "      <td>True</td>\n",
       "      <td>False</td>\n",
       "    </tr>\n",
       "    <tr>\n",
       "      <th>2</th>\n",
       "      <td>3856</td>\n",
       "      <td>e010bf27-b6fc-4f28-8603-10da0660f277</td>\n",
       "      <td>{\"observation_id\": \"e010bf27-b6fc-4f28-8603-10...</td>\n",
       "      <td>True</td>\n",
       "      <td>False</td>\n",
       "    </tr>\n",
       "    <tr>\n",
       "      <th>3</th>\n",
       "      <td>3855</td>\n",
       "      <td>f96ce6f0-8605-44cb-a976-951aa74f2666</td>\n",
       "      <td>{\"observation_id\": \"f96ce6f0-8605-44cb-a976-95...</td>\n",
       "      <td>True</td>\n",
       "      <td>False</td>\n",
       "    </tr>\n",
       "    <tr>\n",
       "      <th>4</th>\n",
       "      <td>3854</td>\n",
       "      <td>e154f140-c4d2-4282-bbda-dde3f0fd1dd1</td>\n",
       "      <td>{\"observation_id\": \"e154f140-c4d2-4282-bbda-dd...</td>\n",
       "      <td>False</td>\n",
       "      <td>False</td>\n",
       "    </tr>\n",
       "  </tbody>\n",
       "</table>\n",
       "</div>"
      ],
      "text/plain": [
       "     id                        observation_id  \\\n",
       "0  3858  6fa09def-2e3e-446e-8e2c-25ba579f0a92   \n",
       "1  3857  0cc3ae49-ebad-487b-9024-5c0943a3bca3   \n",
       "2  3856  e010bf27-b6fc-4f28-8603-10da0660f277   \n",
       "3  3855  f96ce6f0-8605-44cb-a976-951aa74f2666   \n",
       "4  3854  e154f140-c4d2-4282-bbda-dde3f0fd1dd1   \n",
       "\n",
       "                                         observation predicted_outcome outcome  \n",
       "0  {\"observation_id\": \"6fa09def-2e3e-446e-8e2c-25...              True    True  \n",
       "1  {\"observation_id\": \"0cc3ae49-ebad-487b-9024-5c...              True   False  \n",
       "2  {\"observation_id\": \"e010bf27-b6fc-4f28-8603-10...              True   False  \n",
       "3  {\"observation_id\": \"f96ce6f0-8605-44cb-a976-95...              True   False  \n",
       "4  {\"observation_id\": \"e154f140-c4d2-4282-bbda-dd...             False   False  "
      ]
     },
     "execution_count": 4,
     "metadata": {},
     "output_type": "execute_result"
    }
   ],
   "source": [
    "df_new_clean.head()"
   ]
  },
  {
   "cell_type": "code",
   "execution_count": 5,
   "id": "catholic-pension",
   "metadata": {},
   "outputs": [],
   "source": [
    "# transform JSON observation into dict\n",
    "# and then each dict observation into dataframe\n",
    "rows_list = []\n",
    "for row in df_new_clean.observation:\n",
    "        res = json.loads(row) \n",
    "        rows_list.append(res)\n",
    "\n",
    "df_new_cols = pd.DataFrame(rows_list)"
   ]
  },
  {
   "cell_type": "code",
   "execution_count": 6,
   "id": "interracial-nylon",
   "metadata": {},
   "outputs": [],
   "source": [
    "# Pre processing of new observations like in the API\n",
    "def pre_process(df_original):\n",
    "    \n",
    "    df = df_original.copy()\n",
    "\n",
    "    # Pick the station KMeans classifer and predict its cluster\n",
    "    def predict_cluster(df):\n",
    "\n",
    "        if not pd.isna(df.Latitude) and not pd.isna(df.Longitude):\n",
    "\n",
    "            station_name = df.station\n",
    "            with open(f'clusters/km-{station_name}.pickle', 'rb') as fh:\n",
    "                km = joblib.load(fh)\n",
    "\n",
    "            coors = df[['Latitude', 'Longitude']]\n",
    "            cluster = km.predict([coors.values])\n",
    "\n",
    "            return station_name + str(cluster[0])\n",
    "\n",
    "        return np.nan\n",
    "    \n",
    "    # create hour, month and day of week features from Date\n",
    "    def transform_date(df):\n",
    "        # ex: '2019-12-01T00:36:39.650000+'\n",
    "        df['Date'] = df['Date'].str[:19]\n",
    "        df['Date'] = pd.to_datetime(df['Date'], format='%Y-%m-%dT%H:%M:%S')\n",
    "        df['hour'] = df['Date'].dt.hour\n",
    "        df['month'] = df['Date'].dt.month\n",
    "        df['day_of_week'] = df['Date'].dt.day_name()\n",
    "        \n",
    "        return df\n",
    "    \n",
    "    # apply functions to observation df\n",
    "    df['cluster'] = df.apply(lambda row: predict_cluster(row), axis = 1)\n",
    "    df = transform_date(df)\n",
    "    df.loc[(pd.isnull(df['Part of a policing operation'])), 'Part of a policing operation'] = False\n",
    "\n",
    "    return df\n",
    "\n",
    "df_heroku = pre_process(df_new_cols)"
   ]
  },
  {
   "cell_type": "code",
   "execution_count": 7,
   "id": "executive-grill",
   "metadata": {},
   "outputs": [
    {
     "data": {
      "text/html": [
       "<div>\n",
       "<style scoped>\n",
       "    .dataframe tbody tr th:only-of-type {\n",
       "        vertical-align: middle;\n",
       "    }\n",
       "\n",
       "    .dataframe tbody tr th {\n",
       "        vertical-align: top;\n",
       "    }\n",
       "\n",
       "    .dataframe thead th {\n",
       "        text-align: right;\n",
       "    }\n",
       "</style>\n",
       "<table border=\"1\" class=\"dataframe\">\n",
       "  <thead>\n",
       "    <tr style=\"text-align: right;\">\n",
       "      <th></th>\n",
       "      <th>observation_id</th>\n",
       "      <th>Type</th>\n",
       "      <th>Date</th>\n",
       "      <th>Part of a policing operation</th>\n",
       "      <th>Latitude</th>\n",
       "      <th>Longitude</th>\n",
       "      <th>Gender</th>\n",
       "      <th>Age range</th>\n",
       "      <th>Officer-defined ethnicity</th>\n",
       "      <th>Legislation</th>\n",
       "      <th>Object of search</th>\n",
       "      <th>station</th>\n",
       "      <th>cluster</th>\n",
       "      <th>hour</th>\n",
       "      <th>month</th>\n",
       "      <th>day_of_week</th>\n",
       "    </tr>\n",
       "  </thead>\n",
       "  <tbody>\n",
       "    <tr>\n",
       "      <th>0</th>\n",
       "      <td>6fa09def-2e3e-446e-8e2c-25ba579f0a92</td>\n",
       "      <td>Person and Vehicle search</td>\n",
       "      <td>2020-07-05 00:01:00</td>\n",
       "      <td>False</td>\n",
       "      <td>NaN</td>\n",
       "      <td>NaN</td>\n",
       "      <td>Male</td>\n",
       "      <td>over 34</td>\n",
       "      <td>White</td>\n",
       "      <td>Misuse of Drugs Act 1971 (section 23)</td>\n",
       "      <td>Controlled drugs</td>\n",
       "      <td>nottinghamshire</td>\n",
       "      <td>NaN</td>\n",
       "      <td>0</td>\n",
       "      <td>7</td>\n",
       "      <td>Sunday</td>\n",
       "    </tr>\n",
       "    <tr>\n",
       "      <th>1</th>\n",
       "      <td>0cc3ae49-ebad-487b-9024-5c0943a3bca3</td>\n",
       "      <td>Person search</td>\n",
       "      <td>2020-07-04 22:23:00</td>\n",
       "      <td>False</td>\n",
       "      <td>NaN</td>\n",
       "      <td>NaN</td>\n",
       "      <td>Female</td>\n",
       "      <td>18-24</td>\n",
       "      <td>White</td>\n",
       "      <td>Misuse of Drugs Act 1971 (section 23)</td>\n",
       "      <td>Controlled drugs</td>\n",
       "      <td>nottinghamshire</td>\n",
       "      <td>NaN</td>\n",
       "      <td>22</td>\n",
       "      <td>7</td>\n",
       "      <td>Saturday</td>\n",
       "    </tr>\n",
       "    <tr>\n",
       "      <th>2</th>\n",
       "      <td>e010bf27-b6fc-4f28-8603-10da0660f277</td>\n",
       "      <td>Person search</td>\n",
       "      <td>2020-07-04 19:40:00</td>\n",
       "      <td>False</td>\n",
       "      <td>54.78621</td>\n",
       "      <td>-1.58983</td>\n",
       "      <td>Male</td>\n",
       "      <td>10-17</td>\n",
       "      <td>White</td>\n",
       "      <td>Police and Criminal Evidence Act 1984 (section 1)</td>\n",
       "      <td>Offensive weapons</td>\n",
       "      <td>durham</td>\n",
       "      <td>durham6</td>\n",
       "      <td>19</td>\n",
       "      <td>7</td>\n",
       "      <td>Saturday</td>\n",
       "    </tr>\n",
       "    <tr>\n",
       "      <th>3</th>\n",
       "      <td>f96ce6f0-8605-44cb-a976-951aa74f2666</td>\n",
       "      <td>Person search</td>\n",
       "      <td>2020-07-04 19:33:00</td>\n",
       "      <td>False</td>\n",
       "      <td>54.78621</td>\n",
       "      <td>-1.58983</td>\n",
       "      <td>Male</td>\n",
       "      <td>18-24</td>\n",
       "      <td>White</td>\n",
       "      <td>Police and Criminal Evidence Act 1984 (section 1)</td>\n",
       "      <td>Offensive weapons</td>\n",
       "      <td>durham</td>\n",
       "      <td>durham6</td>\n",
       "      <td>19</td>\n",
       "      <td>7</td>\n",
       "      <td>Saturday</td>\n",
       "    </tr>\n",
       "    <tr>\n",
       "      <th>4</th>\n",
       "      <td>e154f140-c4d2-4282-bbda-dde3f0fd1dd1</td>\n",
       "      <td>Person search</td>\n",
       "      <td>2020-07-04 15:16:00</td>\n",
       "      <td>False</td>\n",
       "      <td>NaN</td>\n",
       "      <td>NaN</td>\n",
       "      <td>Male</td>\n",
       "      <td>18-24</td>\n",
       "      <td>Black</td>\n",
       "      <td>Police and Criminal Evidence Act 1984 (section 1)</td>\n",
       "      <td>Offensive weapons</td>\n",
       "      <td>nottinghamshire</td>\n",
       "      <td>NaN</td>\n",
       "      <td>15</td>\n",
       "      <td>7</td>\n",
       "      <td>Saturday</td>\n",
       "    </tr>\n",
       "  </tbody>\n",
       "</table>\n",
       "</div>"
      ],
      "text/plain": [
       "                         observation_id                       Type  \\\n",
       "0  6fa09def-2e3e-446e-8e2c-25ba579f0a92  Person and Vehicle search   \n",
       "1  0cc3ae49-ebad-487b-9024-5c0943a3bca3              Person search   \n",
       "2  e010bf27-b6fc-4f28-8603-10da0660f277              Person search   \n",
       "3  f96ce6f0-8605-44cb-a976-951aa74f2666              Person search   \n",
       "4  e154f140-c4d2-4282-bbda-dde3f0fd1dd1              Person search   \n",
       "\n",
       "                 Date Part of a policing operation  Latitude  Longitude  \\\n",
       "0 2020-07-05 00:01:00                        False       NaN        NaN   \n",
       "1 2020-07-04 22:23:00                        False       NaN        NaN   \n",
       "2 2020-07-04 19:40:00                        False  54.78621   -1.58983   \n",
       "3 2020-07-04 19:33:00                        False  54.78621   -1.58983   \n",
       "4 2020-07-04 15:16:00                        False       NaN        NaN   \n",
       "\n",
       "   Gender Age range Officer-defined ethnicity  \\\n",
       "0    Male   over 34                     White   \n",
       "1  Female     18-24                     White   \n",
       "2    Male     10-17                     White   \n",
       "3    Male     18-24                     White   \n",
       "4    Male     18-24                     Black   \n",
       "\n",
       "                                         Legislation   Object of search  \\\n",
       "0              Misuse of Drugs Act 1971 (section 23)   Controlled drugs   \n",
       "1              Misuse of Drugs Act 1971 (section 23)   Controlled drugs   \n",
       "2  Police and Criminal Evidence Act 1984 (section 1)  Offensive weapons   \n",
       "3  Police and Criminal Evidence Act 1984 (section 1)  Offensive weapons   \n",
       "4  Police and Criminal Evidence Act 1984 (section 1)  Offensive weapons   \n",
       "\n",
       "           station  cluster  hour  month day_of_week  \n",
       "0  nottinghamshire      NaN     0      7      Sunday  \n",
       "1  nottinghamshire      NaN    22      7    Saturday  \n",
       "2           durham  durham6    19      7    Saturday  \n",
       "3           durham  durham6    19      7    Saturday  \n",
       "4  nottinghamshire      NaN    15      7    Saturday  "
      ]
     },
     "execution_count": 7,
     "metadata": {},
     "output_type": "execute_result"
    }
   ],
   "source": [
    "df_heroku.head()"
   ]
  },
  {
   "cell_type": "code",
   "execution_count": 8,
   "id": "silent-waters",
   "metadata": {},
   "outputs": [],
   "source": [
    "def roc_curve_plot(y_true, y_pred):\n",
    "    roc = roc_auc_score(y_test, y_pred)\n",
    "    false_positive_rate, true_positive_rate, thresholds = roc_curve(y_test, y_pred)\n",
    "    plt.figure()\n",
    "    lw = 2\n",
    "    plt.plot(false_positive_rate, true_positive_rate, color='darkorange', lw=lw, label='ROC curve (area = %0.2f)' % roc)\n",
    "    plt.plot([0, 1], [0, 1], color='navy', lw=lw, linestyle='--')\n",
    "    plt.xlim([0.0, 1.0])\n",
    "    plt.ylim([0.0, 1.05])\n",
    "    plt.xlabel('False Positive Rate - Precision')\n",
    "    plt.ylabel('True Positive Rate - Recall')\n",
    "    plt.title('ROC curve')\n",
    "    plt.legend(loc=\"lower right\")\n",
    "    plt.show()"
   ]
  },
  {
   "cell_type": "code",
   "execution_count": 9,
   "id": "grave-vinyl",
   "metadata": {},
   "outputs": [],
   "source": [
    "#Get the confusion matrix\n",
    "def confusion_matrix_plot(y_test, y_pred_threshold):\n",
    "    cf_matrix = confusion_matrix(y_test, y_pred_threshold)\n",
    "\n",
    "    group_names = ['True Neg','False Pos','False Neg','True Pos']\n",
    "    group_counts = ['{0:0.0f}'.format(value) for value in cf_matrix.flatten()]\n",
    "    group_percentages = ['{0:.2%}'.format(value) for value in cf_matrix.flatten()/np.sum(cf_matrix)]\n",
    "\n",
    "    labels = [f'{v1}\\n{v2}\\n{v3}' for v1, v2, v3 in zip(group_names,group_counts,group_percentages)]\n",
    "    labels = np.asarray(labels).reshape(2,2)\n",
    "\n",
    "    fig = plt.subplots(figsize=(8,8))         # Sample figsize in inches\n",
    "    sns.heatmap(cf_matrix, annot=labels, fmt='', cmap='Blues', linewidths=10, annot_kws={\"size\": 12})"
   ]
  },
  {
   "cell_type": "code",
   "execution_count": 10,
   "id": "based-lincoln",
   "metadata": {},
   "outputs": [],
   "source": [
    "# percentage of operations that were correct\n",
    "def verify_success_rate(y_true, y_pred):\n",
    "    precision = precision_score(y_true, y_pred, pos_label=True) \n",
    "    return precision"
   ]
  },
  {
   "cell_type": "code",
   "execution_count": 11,
   "id": "affected-waste",
   "metadata": {},
   "outputs": [],
   "source": [
    "# percentage of operations were correct and were found\n",
    "def verify_amount_found(y_true, y_pred):\n",
    "    recall = recall_score(y_true, y_pred, pos_label=True)    \n",
    "    return recall"
   ]
  },
  {
   "cell_type": "code",
   "execution_count": 12,
   "id": "thorough-blues",
   "metadata": {},
   "outputs": [],
   "source": [
    "def verify_no_discrimination(X_test, y_test, y_pred, sensitive_class, min_samples, max_diff=0.05):\n",
    "    \n",
    "    def calculate_discrimination(X_test, y_true, y_pred, sensitive_column, min_samples, max_diff):\n",
    "        departments = X_test['station'].unique()\n",
    "        sensitive_classes = X_test[sensitive_column].unique()\n",
    "        \n",
    "        # station success for each sensitive class\n",
    "        problematic_departments = []\n",
    "        good_deparments = []\n",
    "        ignored_departments = []\n",
    "        for department in departments:\n",
    "            precisions = {}\n",
    "            \n",
    "            #  calculate precision\n",
    "            for sensitive_class in sensitive_classes:\n",
    "                mask = (X_test[sensitive_column] == sensitive_class) & (X_test['station'] == department)\n",
    "                if np.sum(mask) > min_samples:\n",
    "                    mask = mask.astype(bool) \n",
    "                    precisions[sensitive_class] = precision_score(y_true[mask], y_pred[mask], pos_label=1)\n",
    "\n",
    "            # classify station performance based on precision difference between classes\n",
    "            if len(precisions) > 1:    \n",
    "                diff = np.max(list(precisions.values())) - np.min(list(precisions.values()))\n",
    "                if diff > max_diff:\n",
    "                    problematic_departments.append((department, diff, precisions))\n",
    "                else:\n",
    "                    good_deparments.append((department, diff, precisions))\n",
    "            else:\n",
    "                ignored_departments.append((department, None, []))\n",
    "\n",
    "        \n",
    "        # global success for each sensitive class\n",
    "        global_precisions = {}\n",
    "        for sensitive_class in sensitive_classes:\n",
    "            mask = (X_test[sensitive_column] == sensitive_class)\n",
    "            if np.sum(mask) > min_samples:\n",
    "                mask = mask.astype(bool)\n",
    "                global_precisions[sensitive_class] = precision_score(y_true[mask], y_pred[mask], pos_label=1)\n",
    "\n",
    "                \n",
    "        return problematic_departments, good_deparments, ignored_departments, global_precisions\n",
    "              \n",
    "    #\n",
    "    #\n",
    "    #\n",
    "    \n",
    "    print(f\"{sensitive_class}\")\n",
    "\n",
    "    problematic_departments, good_deparments, ignored_departments, global_precisions = calculate_discrimination(\n",
    "        X_test, y_test, y_pred, sensitive_class, min_samples, max_diff)\n",
    "\n",
    "    print(\"Global rates: {}\".format(global_precisions))\n",
    "    print(\"Num problematic departments: {}\".format(len(problematic_departments)))\n",
    "    print(\"Num good departments: {}\".format(len(good_deparments)))\n",
    "    print(\"avg diff:\", np.mean([p[1] for p in problematic_departments]))\n",
    "    print(\"Departments analysed: {}\".format(len(problematic_departments) + len(good_deparments))) \n",
    "    \n",
    "    problematic_sorted = sorted(problematic_departments, key=lambda tup: tup[1])\n",
    "    good_sorted = sorted(good_deparments, key=lambda tup: tup[1])\n",
    "    \n",
    "    return problematic_sorted, good_sorted, ignored_departments"
   ]
  },
  {
   "cell_type": "code",
   "execution_count": 13,
   "id": "classified-playing",
   "metadata": {},
   "outputs": [],
   "source": [
    "def verify_success_per_station_per_objective(X_test, y_true, y_pred, min_samples = 30):\n",
    "    stations = X_test['station'].unique()\n",
    "    \n",
    "    obj_column = 'Object of search'\n",
    "    objectives = X_test[obj_column].unique()\n",
    "  \n",
    "    station_objs_precison = {}\n",
    "    station_avg_precison = {}\n",
    "\n",
    "    for station in stations:\n",
    "        mask = X_test['station'] == station\n",
    "        mask = mask.astype(bool) \n",
    "        station_avg_precison[station] = precision_score(y_true[mask], y_pred[mask], pos_label=1)\n",
    "        \n",
    "        objectives_precision = {}\n",
    "        \n",
    "        #  calculate precision\n",
    "        for obj in objectives:\n",
    "            mask = (X_test[obj_column] == obj) & (X_test['station'] == station)\n",
    "            if np.sum(mask) > min_samples:\n",
    "                mask = mask.astype(bool) \n",
    "                objectives_precision[obj] = precision_score(y_true[mask], y_pred[mask], pos_label=1)\n",
    "                \n",
    "        station_objs_precison[station] = objectives_precision \n",
    "        \n",
    "    list_station_precision = []\n",
    "    \n",
    "    for station in station_objs_precison:\n",
    "        for obj in station_objs_precison[station]:\n",
    "            row = [station, obj, station_objs_precison[station][obj]]\n",
    "            list_station_precision.append(row)\n",
    "    \n",
    "    df_sta_obs_prec = pd.DataFrame(columns=['station', 'Object of search', 'precision'], data=list_station_precision)\n",
    "    df_sta_obs_prec = df_sta_obs_prec[df_sta_obs_prec.precision != 0].sort_values(by='precision', ascending='True')\n",
    "    \n",
    "    station_avg_precison_sorted = dict(sorted(station_avg_precison.items(), key=lambda item: item[1]))\n",
    "    station_avg_precison_sorted = pd.DataFrame(columns=['station', 'precision'], data=station_avg_precison.items())\n",
    "    station_avg_precison_sorted = station_avg_precison_sorted[station_avg_precison_sorted.precision != 0].sort_values(by='precision', ascending='True')\n",
    "    \n",
    "    return df_sta_obs_prec, station_avg_precison_sorted"
   ]
  },
  {
   "cell_type": "markdown",
   "id": "virtual-blocking",
   "metadata": {},
   "source": [
    "## Analyse new data on Heroku 1st deployed model  <a class=\"anchor\" id=\"1\"></a>"
   ]
  },
  {
   "cell_type": "code",
   "execution_count": 14,
   "id": "cubic-specification",
   "metadata": {},
   "outputs": [],
   "source": [
    "# new data True Outcomes\n",
    "y_test = df_new_clean.outcome.values.astype(bool).astype(int) "
   ]
  },
  {
   "cell_type": "code",
   "execution_count": 15,
   "id": "silent-investing",
   "metadata": {},
   "outputs": [],
   "source": [
    "# heroku model Predicted Outcomes for new data\n",
    "y_pred_heroku = df_new_clean.predicted_outcome.values.astype(bool).astype(int) "
   ]
  },
  {
   "cell_type": "code",
   "execution_count": 16,
   "id": "excellent-amsterdam",
   "metadata": {},
   "outputs": [
    {
     "name": "stdout",
     "output_type": "stream",
     "text": [
      "              precision    recall  f1-score   support\n",
      "\n",
      "           0       0.86      0.25      0.39      2575\n",
      "           1       0.32      0.89      0.47      1003\n",
      "\n",
      "    accuracy                           0.43      3578\n",
      "   macro avg       0.59      0.57      0.43      3578\n",
      "weighted avg       0.71      0.43      0.41      3578\n",
      "\n"
     ]
    }
   ],
   "source": [
    "print(classification_report(y_test, y_pred_heroku))"
   ]
  },
  {
   "cell_type": "code",
   "execution_count": 17,
   "id": "constitutional-consumption",
   "metadata": {},
   "outputs": [
    {
     "data": {
      "image/png": "[encoded data removed]",
      "text/plain": [
       "<Figure size 576x576 with 2 Axes>"
      ]
     },
     "metadata": {
      "needs_background": "light"
     },
     "output_type": "display_data"
    }
   ],
   "source": [
    "confusion_matrix_plot(y_test, y_pred_heroku)"
   ]
  },
  {
   "cell_type": "code",
   "execution_count": 18,
   "id": "acute-hearts",
   "metadata": {},
   "outputs": [
    {
     "name": "stderr",
     "output_type": "stream",
     "text": [
      "/home/hrkbaltazar/.virtualenvs/capstone/lib/python3.8/site-packages/sklearn/metrics/_classification.py:1221: UndefinedMetricWarning: Precision is ill-defined and being set to 0.0 due to no predicted samples. Use `zero_division` parameter to control this behavior.\n",
      "  _warn_prf(average, modifier, msg_start, len(result))\n"
     ]
    }
   ],
   "source": [
    "station_objs_precison, station_avg_precison = verify_success_per_station_per_objective(df_heroku, y_test, y_pred_heroku, 1)"
   ]
  },
  {
   "cell_type": "code",
   "execution_count": 19,
   "id": "official-danger",
   "metadata": {},
   "outputs": [
    {
     "data": {
      "text/html": [
       "<div>\n",
       "<style scoped>\n",
       "    .dataframe tbody tr th:only-of-type {\n",
       "        vertical-align: middle;\n",
       "    }\n",
       "\n",
       "    .dataframe tbody tr th {\n",
       "        vertical-align: top;\n",
       "    }\n",
       "\n",
       "    .dataframe thead th {\n",
       "        text-align: right;\n",
       "    }\n",
       "</style>\n",
       "<table border=\"1\" class=\"dataframe\">\n",
       "  <thead>\n",
       "    <tr style=\"text-align: right;\">\n",
       "      <th></th>\n",
       "      <th>station</th>\n",
       "      <th>Object of search</th>\n",
       "      <th>precision</th>\n",
       "    </tr>\n",
       "  </thead>\n",
       "  <tbody>\n",
       "    <tr>\n",
       "      <th>13</th>\n",
       "      <td>city-of-london</td>\n",
       "      <td>Offensive weapons</td>\n",
       "      <td>0.160000</td>\n",
       "    </tr>\n",
       "    <tr>\n",
       "      <th>14</th>\n",
       "      <td>city-of-london</td>\n",
       "      <td>Article for use in theft</td>\n",
       "      <td>0.166667</td>\n",
       "    </tr>\n",
       "    <tr>\n",
       "      <th>1</th>\n",
       "      <td>nottinghamshire</td>\n",
       "      <td>Offensive weapons</td>\n",
       "      <td>0.208333</td>\n",
       "    </tr>\n",
       "    <tr>\n",
       "      <th>10</th>\n",
       "      <td>durham</td>\n",
       "      <td>Game or poaching equipment</td>\n",
       "      <td>0.250000</td>\n",
       "    </tr>\n",
       "    <tr>\n",
       "      <th>19</th>\n",
       "      <td>cambridgeshire</td>\n",
       "      <td>Controlled drugs</td>\n",
       "      <td>0.250000</td>\n",
       "    </tr>\n",
       "  </tbody>\n",
       "</table>\n",
       "</div>"
      ],
      "text/plain": [
       "            station            Object of search  precision\n",
       "13   city-of-london           Offensive weapons   0.160000\n",
       "14   city-of-london    Article for use in theft   0.166667\n",
       "1   nottinghamshire           Offensive weapons   0.208333\n",
       "10           durham  Game or poaching equipment   0.250000\n",
       "19   cambridgeshire            Controlled drugs   0.250000"
      ]
     },
     "execution_count": 19,
     "metadata": {},
     "output_type": "execute_result"
    }
   ],
   "source": [
    "station_objs_precison[:5]"
   ]
  },
  {
   "cell_type": "code",
   "execution_count": 20,
   "id": "covered-rapid",
   "metadata": {},
   "outputs": [
    {
     "data": {
      "text/html": [
       "<div>\n",
       "<style scoped>\n",
       "    .dataframe tbody tr th:only-of-type {\n",
       "        vertical-align: middle;\n",
       "    }\n",
       "\n",
       "    .dataframe tbody tr th {\n",
       "        vertical-align: top;\n",
       "    }\n",
       "\n",
       "    .dataframe thead th {\n",
       "        text-align: right;\n",
       "    }\n",
       "</style>\n",
       "<table border=\"1\" class=\"dataframe\">\n",
       "  <thead>\n",
       "    <tr style=\"text-align: right;\">\n",
       "      <th></th>\n",
       "      <th>station</th>\n",
       "      <th>precision</th>\n",
       "    </tr>\n",
       "  </thead>\n",
       "  <tbody>\n",
       "    <tr>\n",
       "      <th>3</th>\n",
       "      <td>cambridgeshire</td>\n",
       "      <td>0.250000</td>\n",
       "    </tr>\n",
       "    <tr>\n",
       "      <th>2</th>\n",
       "      <td>city-of-london</td>\n",
       "      <td>0.265550</td>\n",
       "    </tr>\n",
       "    <tr>\n",
       "      <th>0</th>\n",
       "      <td>nottinghamshire</td>\n",
       "      <td>0.279507</td>\n",
       "    </tr>\n",
       "    <tr>\n",
       "      <th>1</th>\n",
       "      <td>durham</td>\n",
       "      <td>0.554795</td>\n",
       "    </tr>\n",
       "  </tbody>\n",
       "</table>\n",
       "</div>"
      ],
      "text/plain": [
       "           station  precision\n",
       "3   cambridgeshire   0.250000\n",
       "2   city-of-london   0.265550\n",
       "0  nottinghamshire   0.279507\n",
       "1           durham   0.554795"
      ]
     },
     "execution_count": 20,
     "metadata": {},
     "output_type": "execute_result"
    }
   ],
   "source": [
    "station_avg_precison"
   ]
  },
  {
   "cell_type": "code",
   "execution_count": 21,
   "id": "environmental-lawsuit",
   "metadata": {},
   "outputs": [
    {
     "name": "stdout",
     "output_type": "stream",
     "text": [
      "Gender\n",
      "Global rates: {'Male': 0.31703531237873495, 'Female': 0.3056768558951965}\n",
      "Num problematic departments: 1\n",
      "Num good departments: 2\n",
      "avg diff: 0.06600889096543242\n",
      "Departments analysed: 3\n"
     ]
    }
   ],
   "source": [
    "problematic_stations_g, good_stations_g, ignored_stations_g = verify_no_discrimination(df_heroku, y_test, y_pred_heroku, 'Gender', 30)"
   ]
  },
  {
   "cell_type": "code",
   "execution_count": 22,
   "id": "played-utility",
   "metadata": {},
   "outputs": [
    {
     "name": "stdout",
     "output_type": "stream",
     "text": [
      "Expected max diff between Genders in each station\n",
      "\n",
      " nottinghamshire :  6.6 %\n",
      "Male 28.38\n",
      "Female 21.78\n"
     ]
    }
   ],
   "source": [
    "print(\"Expected max diff between Genders in each station\")\n",
    "for i in problematic_stations_g[0:5]:\n",
    "    print(\"\\n\", i[0],\": \", round(i[1]*100,2),\"%\")\n",
    "    for u in i[2]:\n",
    "        print(u, round(i[2][u]*100,2))"
   ]
  },
  {
   "cell_type": "code",
   "execution_count": 23,
   "id": "closed-settle",
   "metadata": {},
   "outputs": [
    {
     "name": "stdout",
     "output_type": "stream",
     "text": [
      "Officer-defined ethnicity\n",
      "Global rates: {'White': 0.3619806488332385, 'Black': 0.26939655172413796, 'Asian': 0.22524752475247525, 'Mixed': 0.2246376811594203, 'Other': 0.24561403508771928}\n",
      "Num problematic departments: 2\n",
      "Num good departments: 0\n",
      "avg diff: 0.08756169972319403\n",
      "Departments analysed: 2\n"
     ]
    }
   ],
   "source": [
    "problematic_stations_e, good_stations_e, ignored_stations_e = verify_no_discrimination(df_heroku, y_test, y_pred_heroku, 'Officer-defined ethnicity', 30)"
   ]
  },
  {
   "cell_type": "code",
   "execution_count": 24,
   "id": "rubber-preview",
   "metadata": {},
   "outputs": [
    {
     "name": "stdout",
     "output_type": "stream",
     "text": [
      "Expected max diff between Ethnicties in each station\n",
      "\n",
      " nottinghamshire :  7.57 %\n",
      "White 30.03\n",
      "Black 26.55\n",
      "Asian 23.83\n",
      "Mixed 22.46\n",
      "\n",
      " city-of-london :  9.94 %\n",
      "White 30.05\n",
      "Black 27.0\n",
      "Asian 20.11\n",
      "Other 20.51\n"
     ]
    }
   ],
   "source": [
    "print(\"Expected max diff between Ethnicties in each station\")\n",
    "for i in problematic_stations_e[0:5]:\n",
    "    print(\"\\n\", i[0],\": \", round(i[1]*100,2),\"%\")\n",
    "    for u in i[2]:\n",
    "        print(u, round(i[2][u]*100,2))"
   ]
  },
  {
   "cell_type": "markdown",
   "id": "breathing-landing",
   "metadata": {},
   "source": [
    "## Predict on new data using imported model  <a class=\"anchor\" id=\"2\"></a>"
   ]
  },
  {
   "cell_type": "code",
   "execution_count": 25,
   "id": "controversial-glucose",
   "metadata": {},
   "outputs": [],
   "source": [
    "# load new model to test on the new data\n",
    "with open('columns.json', 'r') as fh:\n",
    "    columns = json.load(fh)\n",
    "with open('dtypes.pickle', 'rb') as fh:\n",
    "    dtypes = joblib.load(fh)\n",
    "with open('pipeline.pickle', 'rb') as fh:\n",
    "    pipeline_test = joblib.load(fh)"
   ]
  },
  {
   "cell_type": "code",
   "execution_count": 26,
   "id": "editorial-collection",
   "metadata": {},
   "outputs": [],
   "source": [
    "cols_to_predict = ['Type','Part of a policing operation', 'Legislation',\n",
    "                  'Object of search', 'station', 'hour', 'month', 'day_of_week', 'cluster'] \n",
    "#'Gender', 'Officer-defined ethnicity', 'Age range',\n",
    "df = df_heroku[cols_to_predict].copy()"
   ]
  },
  {
   "cell_type": "code",
   "execution_count": 27,
   "id": "located-germany",
   "metadata": {},
   "outputs": [
    {
     "name": "stderr",
     "output_type": "stream",
     "text": [
      "/home/hrkbaltazar/.virtualenvs/capstone/lib/python3.8/site-packages/sklearn/compose/_column_transformer.py:437: FutureWarning: Given feature/column names or counts do not match the ones for the data given during fit. This will fail from v0.24.\n",
      "  warnings.warn(\"Given feature/column names or counts do not match \"\n"
     ]
    }
   ],
   "source": [
    "# new model Predicted Outcomes for new data\n",
    "y_pred_new_model = pipeline_test.predict(df)"
   ]
  },
  {
   "cell_type": "code",
   "execution_count": 28,
   "id": "north-railway",
   "metadata": {},
   "outputs": [],
   "source": [
    "true_threshold  = 0.228\n",
    "y_pred_new_model_threshold = np.array(list(map(lambda x: 1 if x > true_threshold else 0, y_pred_new_model)))"
   ]
  },
  {
   "cell_type": "code",
   "execution_count": 29,
   "id": "consolidated-economics",
   "metadata": {},
   "outputs": [
    {
     "data": {
      "image/png": "[encoded data removed]",
      "text/plain": [
       "<Figure size 576x576 with 2 Axes>"
      ]
     },
     "metadata": {
      "needs_background": "light"
     },
     "output_type": "display_data"
    }
   ],
   "source": [
    "confusion_matrix_plot(y_test, y_pred_new_model_threshold)"
   ]
  },
  {
   "cell_type": "code",
   "execution_count": 30,
   "id": "hearing-cooperation",
   "metadata": {},
   "outputs": [
    {
     "name": "stderr",
     "output_type": "stream",
     "text": [
      "/home/hrkbaltazar/.virtualenvs/capstone/lib/python3.8/site-packages/sklearn/metrics/_classification.py:1221: UndefinedMetricWarning: Precision is ill-defined and being set to 0.0 due to no predicted samples. Use `zero_division` parameter to control this behavior.\n",
      "  _warn_prf(average, modifier, msg_start, len(result))\n"
     ]
    }
   ],
   "source": [
    "station_objs_precison, station_avg_precison = verify_success_per_station_per_objective(df_heroku, y_test, y_pred_heroku, 30)"
   ]
  },
  {
   "cell_type": "code",
   "execution_count": 31,
   "id": "under-confirmation",
   "metadata": {},
   "outputs": [
    {
     "data": {
      "text/html": [
       "<div>\n",
       "<style scoped>\n",
       "    .dataframe tbody tr th:only-of-type {\n",
       "        vertical-align: middle;\n",
       "    }\n",
       "\n",
       "    .dataframe tbody tr th {\n",
       "        vertical-align: top;\n",
       "    }\n",
       "\n",
       "    .dataframe thead th {\n",
       "        text-align: right;\n",
       "    }\n",
       "</style>\n",
       "<table border=\"1\" class=\"dataframe\">\n",
       "  <thead>\n",
       "    <tr style=\"text-align: right;\">\n",
       "      <th></th>\n",
       "      <th>station</th>\n",
       "      <th>Object of search</th>\n",
       "      <th>precision</th>\n",
       "    </tr>\n",
       "  </thead>\n",
       "  <tbody>\n",
       "    <tr>\n",
       "      <th>9</th>\n",
       "      <td>city-of-london</td>\n",
       "      <td>Offensive weapons</td>\n",
       "      <td>0.160000</td>\n",
       "    </tr>\n",
       "    <tr>\n",
       "      <th>10</th>\n",
       "      <td>city-of-london</td>\n",
       "      <td>Article for use in theft</td>\n",
       "      <td>0.166667</td>\n",
       "    </tr>\n",
       "    <tr>\n",
       "      <th>1</th>\n",
       "      <td>nottinghamshire</td>\n",
       "      <td>Offensive weapons</td>\n",
       "      <td>0.208333</td>\n",
       "    </tr>\n",
       "    <tr>\n",
       "      <th>11</th>\n",
       "      <td>city-of-london</td>\n",
       "      <td>Stolen goods</td>\n",
       "      <td>0.253247</td>\n",
       "    </tr>\n",
       "    <tr>\n",
       "      <th>6</th>\n",
       "      <td>durham</td>\n",
       "      <td>Article for use in theft</td>\n",
       "      <td>0.271605</td>\n",
       "    </tr>\n",
       "  </tbody>\n",
       "</table>\n",
       "</div>"
      ],
      "text/plain": [
       "            station          Object of search  precision\n",
       "9    city-of-london         Offensive weapons   0.160000\n",
       "10   city-of-london  Article for use in theft   0.166667\n",
       "1   nottinghamshire         Offensive weapons   0.208333\n",
       "11   city-of-london              Stolen goods   0.253247\n",
       "6            durham  Article for use in theft   0.271605"
      ]
     },
     "execution_count": 31,
     "metadata": {},
     "output_type": "execute_result"
    }
   ],
   "source": [
    "station_objs_precison[:5]"
   ]
  },
  {
   "cell_type": "code",
   "execution_count": 32,
   "id": "miniature-intranet",
   "metadata": {},
   "outputs": [
    {
     "data": {
      "text/html": [
       "<div>\n",
       "<style scoped>\n",
       "    .dataframe tbody tr th:only-of-type {\n",
       "        vertical-align: middle;\n",
       "    }\n",
       "\n",
       "    .dataframe tbody tr th {\n",
       "        vertical-align: top;\n",
       "    }\n",
       "\n",
       "    .dataframe thead th {\n",
       "        text-align: right;\n",
       "    }\n",
       "</style>\n",
       "<table border=\"1\" class=\"dataframe\">\n",
       "  <thead>\n",
       "    <tr style=\"text-align: right;\">\n",
       "      <th></th>\n",
       "      <th>station</th>\n",
       "      <th>precision</th>\n",
       "    </tr>\n",
       "  </thead>\n",
       "  <tbody>\n",
       "    <tr>\n",
       "      <th>3</th>\n",
       "      <td>cambridgeshire</td>\n",
       "      <td>0.250000</td>\n",
       "    </tr>\n",
       "    <tr>\n",
       "      <th>2</th>\n",
       "      <td>city-of-london</td>\n",
       "      <td>0.265550</td>\n",
       "    </tr>\n",
       "    <tr>\n",
       "      <th>0</th>\n",
       "      <td>nottinghamshire</td>\n",
       "      <td>0.279507</td>\n",
       "    </tr>\n",
       "    <tr>\n",
       "      <th>1</th>\n",
       "      <td>durham</td>\n",
       "      <td>0.554795</td>\n",
       "    </tr>\n",
       "  </tbody>\n",
       "</table>\n",
       "</div>"
      ],
      "text/plain": [
       "           station  precision\n",
       "3   cambridgeshire   0.250000\n",
       "2   city-of-london   0.265550\n",
       "0  nottinghamshire   0.279507\n",
       "1           durham   0.554795"
      ]
     },
     "execution_count": 32,
     "metadata": {},
     "output_type": "execute_result"
    }
   ],
   "source": [
    "station_avg_precison[:5]"
   ]
  },
  {
   "cell_type": "code",
   "execution_count": 33,
   "id": "subject-resistance",
   "metadata": {},
   "outputs": [
    {
     "name": "stdout",
     "output_type": "stream",
     "text": [
      "Officer-defined ethnicity\n",
      "Global rates: {'White': 0.37032418952618457, 'Black': 0.2694063926940639, 'Asian': 0.23333333333333334, 'Mixed': 0.22627737226277372, 'Other': 0.3}\n",
      "Num problematic departments: 2\n",
      "Num good departments: 0\n",
      "avg diff: 0.09635900876860244\n",
      "Departments analysed: 2\n"
     ]
    }
   ],
   "source": [
    "problematic_stations, good_stations, ignored_stations = verify_no_discrimination(df_heroku, y_test, y_pred_new_model_threshold, 'Officer-defined ethnicity', 30)"
   ]
  },
  {
   "cell_type": "code",
   "execution_count": 34,
   "id": "structural-sewing",
   "metadata": {},
   "outputs": [
    {
     "name": "stdout",
     "output_type": "stream",
     "text": [
      "Gender\n",
      "Global rates: {'Male': 0.3256010122311261, 'Female': 0.29411764705882354}\n",
      "Num problematic departments: 2\n",
      "Num good departments: 1\n",
      "avg diff: 0.09268530958791217\n",
      "Departments analysed: 3\n"
     ]
    }
   ],
   "source": [
    "problematic_stations, good_stations, ignored_stations = verify_no_discrimination(df_heroku, y_test, y_pred_new_model_threshold, 'Gender', 30)"
   ]
  },
  {
   "cell_type": "code",
   "execution_count": 35,
   "id": "therapeutic-decision",
   "metadata": {},
   "outputs": [
    {
     "name": "stdout",
     "output_type": "stream",
     "text": [
      "              precision    recall  f1-score   support\n",
      "\n",
      "           0       0.84      0.32      0.46      2575\n",
      "           1       0.33      0.84      0.47      1003\n",
      "\n",
      "    accuracy                           0.47      3578\n",
      "   macro avg       0.58      0.58      0.47      3578\n",
      "weighted avg       0.69      0.47      0.47      3578\n",
      "\n"
     ]
    }
   ],
   "source": [
    "print(classification_report(y_test, y_pred_new_model_threshold))"
   ]
  },
  {
   "cell_type": "markdown",
   "id": "double-czech",
   "metadata": {},
   "source": [
    "| Requirements |   Expected   | Reality |\n",
    "|-------------------|--------|--------| \n",
    "| global discrimination (gender) (max 5%) |   0.12  | 0.06\n",
    "| global discrimination (ethnicity) (max 5%) |  0.12  | 0.08"
   ]
  },
  {
   "cell_type": "markdown",
   "id": "differential-halloween",
   "metadata": {},
   "source": [
    "## Train a model with the new data  <a class=\"anchor\" id=\"3\"></a>"
   ]
  },
  {
   "cell_type": "code",
   "execution_count": 36,
   "id": "fabulous-agreement",
   "metadata": {},
   "outputs": [],
   "source": [
    "# # new data True Outcomes\n",
    "# y_test = df_new_clean.outcome.values.astype(bool).astype(int) \n",
    "# df_heroku['target'] = y_test\n",
    "\n",
    "# with open('dtypes_pre_process.pickle', 'rb') as fh:\n",
    "#     dtypes_pre = pickle.load(fh)\n",
    "\n",
    "# df_heroku['Self-defined ethnicity'] = ''\n",
    "# df_heroku['Outcome'] = ''\n",
    "# df_heroku['Outcome linked to object of search'] = ''\n",
    "# df_heroku['Removal of more than just outer clothing'] = ''\n",
    "\n",
    "# df_heroku = df_heroku.astype(dtypes_pre)\n",
    "\n",
    "# cols_to_predict = ['Type','Part of a policing operation','Gender', 'Officer-defined ethnicity', 'Age range', 'Legislation',\n",
    "#                   'Object of search', 'station', 'hour', 'month', 'day_of_week', 'cluster', 'target']\n",
    "\n",
    "# df_clean = df_heroku[cols_to_predict].copy()"
   ]
  },
  {
   "cell_type": "code",
   "execution_count": 37,
   "id": "solid-failing",
   "metadata": {},
   "outputs": [],
   "source": [
    "# # Exclude 'Age range', 'Self-defined ethnicity', 'observation_id','Removal of more than just outer clothing', 'Latitude'/'Longitude'\n",
    "# # 'Gender', 'Officer-defined ethnicity'\n",
    "# all_features = ['station', \n",
    "#                 'Type',\n",
    "#                 'Part of a policing operation',\n",
    "#                 'Object of search', 'Legislation', \n",
    "#                 'day_of_week', \n",
    "#                 'hour', \n",
    "#                 'month', \n",
    "#                 'cluster']\n",
    "# numerical_features = ['hour', 'month']\n",
    "# categorical_features = [ 'Object of search', \n",
    "#                         'Legislation', \n",
    "#                         'Type', \n",
    "#                         'Part of a policing operation', \n",
    "#                         'station', \n",
    "#                         'day_of_week','cluster']\n",
    "# #categorical_features2 = ['cluster']\n",
    "# target = 'target'"
   ]
  },
  {
   "cell_type": "code",
   "execution_count": 38,
   "id": "liked-progress",
   "metadata": {},
   "outputs": [],
   "source": [
    "# df_train, df_test = train_test_split(df_clean, test_size=0.2, random_state=42, stratify=df_clean[target])\n",
    "\n",
    "# X_train = df_train[all_features]\n",
    "# y_train = df_train[target]\n",
    "\n",
    "# X_test = df_test[all_features]\n",
    "# y_test = df_test[target] "
   ]
  },
  {
   "cell_type": "code",
   "execution_count": 39,
   "id": "federal-spread",
   "metadata": {},
   "outputs": [],
   "source": [
    "# numeric_transformer = Pipeline(steps=[\n",
    "#     ('imputer', SimpleImputer(strategy='mean')),\n",
    "#     ('scaler', StandardScaler())])\n",
    "\n",
    "# categorical_transformer = Pipeline(steps=[\n",
    "#     ('imputer', SimpleImputer(strategy='constant', fill_value='missing')),\n",
    "#     ('onehot', OneHotEncoder(handle_unknown='ignore'))])#MyLEncoder())])  ### # \n",
    "\n",
    "# # categorical_transformer2 = Pipeline(steps=[\n",
    "# #     ('imputer', SimpleImputer(strategy='constant', fill_value='missing')),\n",
    "# #     ('onehot', MyLEncoder())])  ### # \n",
    "\n",
    "# preprocessor = ColumnTransformer(\n",
    "#     transformers=[\n",
    "#         ('num', numeric_transformer, numerical_features),\n",
    "#         ('cat', categorical_transformer, categorical_features)]\n",
    "#         #('cat2', categorical_transformer2, categorical_features2)]\n",
    "# )\n",
    "\n",
    "# pipeline = make_pipeline(\n",
    "#     preprocessor,\n",
    "#     #xgboost.XGBClassifier(random_state=42, n_jobs=-1, scale_pos_weight=4)\n",
    "#     xgboost.XGBRegressor(random_state=42)\n",
    "#     #RandomForestClassifier(max_depth=10, class_weight=\"balanced\", random_state=42, n_jobs=-1),\n",
    "# )\n",
    "\n",
    "# pipeline.fit(X_train, y_train)\n",
    "\n",
    "# y_pred = pipeline.predict(X_test)\n",
    "# y_pred_train = pipeline.predict(X_train)"
   ]
  },
  {
   "cell_type": "code",
   "execution_count": 40,
   "id": "collect-publisher",
   "metadata": {},
   "outputs": [],
   "source": [
    "# roc_curve_plot(y_test, y_pred)"
   ]
  },
  {
   "cell_type": "code",
   "execution_count": 41,
   "id": "contrary-gamma",
   "metadata": {},
   "outputs": [],
   "source": [
    "# categorical_encode_step = pipeline.named_steps['columntransformer'].named_transformers_['cat'].named_steps['onehot']\n",
    "# onehot_columns = categorical_encode_step.get_feature_names(input_features=categorical_features)\n",
    "\n",
    "# xgb_regressor_step = pipeline.named_steps['xgbregressor']\n",
    "# importances = pd.Series(data=xgb_regressor_step.feature_importances_, index = np.array(numerical_features + list(onehot_columns)))\n",
    "# indices = np.argsort(importances)[::-1]\n",
    "\n",
    "# print(\"Feature ranking:\")\n",
    "# for f in range(10):\n",
    "#     feature_name = importances.index[indices[f]]\n",
    "    \n",
    "#     print(f\"{f+1}. {feature_name} ({importances[indices[f]]})\")"
   ]
  },
  {
   "cell_type": "markdown",
   "id": "available-connection",
   "metadata": {},
   "source": [
    "# Comparing old to new data"
   ]
  },
  {
   "cell_type": "code",
   "execution_count": 42,
   "id": "polished-bible",
   "metadata": {},
   "outputs": [
    {
     "data": {
      "text/plain": [
       "False    0.947314\n",
       "True     0.052686\n",
       "Name: Part of a policing operation, dtype: float64"
      ]
     },
     "execution_count": 42,
     "metadata": {},
     "output_type": "execute_result"
    }
   ],
   "source": [
    "df_old['Part of a policing operation'].value_counts(normalize=True)"
   ]
  },
  {
   "cell_type": "code",
   "execution_count": 43,
   "id": "casual-agent",
   "metadata": {},
   "outputs": [
    {
     "data": {
      "text/plain": [
       "False    0.749581\n",
       "True     0.250419\n",
       "Name: Part of a policing operation, dtype: float64"
      ]
     },
     "execution_count": 43,
     "metadata": {},
     "output_type": "execute_result"
    }
   ],
   "source": [
    "df_heroku['Part of a policing operation'].value_counts(normalize=True)"
   ]
  },
  {
   "cell_type": "code",
   "execution_count": 44,
   "id": "empty-simpson",
   "metadata": {},
   "outputs": [
    {
     "name": "stdout",
     "output_type": "stream",
     "text": [
      "nottinghamshire 0.2552289429055964\n",
      "city-of-london 0.27857343442853133\n",
      "durham 0.35753575357535755\n",
      "cambridgeshire 0.1806375442739079\n"
     ]
    }
   ],
   "source": [
    "stations = ['nottinghamshire', 'city-of-london','durham','cambridgeshire']\n",
    "for s in stations:\n",
    "    df_ = df_old[df_old.station == s]\n",
    "    total = df_.shape[0]\n",
    "    suc = df_[df_.target == 1].shape[0]\n",
    "    print(s, suc/total)"
   ]
  },
  {
   "cell_type": "code",
   "execution_count": 46,
   "id": "acoustic-weekly",
   "metadata": {},
   "outputs": [
    {
     "name": "stdout",
     "output_type": "stream",
     "text": [
      "nottinghamshire 0.24298111281265952\n",
      "city-of-london 0.24242424242424243\n",
      "durham 0.5547945205479452\n",
      "cambridgeshire 0.15384615384615385\n"
     ]
    }
   ],
   "source": [
    "# new data True Outcomes\n",
    "y_test = df_new_clean.outcome.values.astype(bool).astype(int) \n",
    "df_heroku['target'] = y_test\n",
    "\n",
    "for s in stations:\n",
    "    df_ = df_heroku[df_heroku.station == s]\n",
    "    total = df_.shape[0]\n",
    "    suc = df_[df_.target == 1].shape[0]\n",
    "    print(s, suc/total)"
   ]
  }
 ],
 "metadata": {
  "kernelspec": {
   "display_name": "Python 3",
   "language": "python",
   "name": "python3"
  },
  "language_info": {
   "codemirror_mode": {
    "name": "ipython",
    "version": 3
   },
   "file_extension": ".py",
   "mimetype": "text/x-python",
   "name": "python",
   "nbconvert_exporter": "python",
   "pygments_lexer": "ipython3",
   "version": "3.8.5"
  }
 },
 "nbformat": 4,
 "nbformat_minor": 5
}
